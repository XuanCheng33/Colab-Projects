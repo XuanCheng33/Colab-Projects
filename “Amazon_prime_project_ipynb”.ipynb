{
  "nbformat": 4,
  "nbformat_minor": 0,
  "metadata": {
    "colab": {
      "provenance": [],
      "collapsed_sections": [],
      "include_colab_link": true
    },
    "kernelspec": {
      "name": "python3",
      "display_name": "Python 3"
    }
  },
  "cells": [
    {
      "cell_type": "markdown",
      "metadata": {
        "id": "view-in-github",
        "colab_type": "text"
      },
      "source": [
        "<a href=\"https://colab.research.google.com/github/XuanCheng33/Colab-Projects/blob/main/%E2%80%9CAmazon_prime_project_ipynb%E2%80%9D.ipynb\" target=\"_parent\"><img src=\"https://colab.research.google.com/assets/colab-badge.svg\" alt=\"Open In Colab\"/></a>"
      ]
    },
    {
      "cell_type": "markdown",
      "source": [
        "# Prime Video view time exploration and prediction"
      ],
      "metadata": {
        "id": "RJYuYp5f6EmF"
      }
    },
    {
      "cell_type": "markdown",
      "source": [
        "In this project, I build a numeric prediction model to predict the cvt_per_day based on the information in the Amazon prime video dataset. Cvt_per_day is a measure on how much a movie is consumed by the audiences per day. Higher number means the movie is more popular on the platform.\n"
      ],
      "metadata": {
        "id": "A1pdLfdx-EWk"
      }
    },
    {
      "cell_type": "markdown",
      "source": [
        "## Contents"
      ],
      "metadata": {
        "id": "FGsgRfFv_STn"
      }
    },
    {
      "cell_type": "markdown",
      "source": [
        "* [Part 1: Load Data and Packages](#Part-1:-Load-Data-and-Packages)\n",
        "* [Part 2: Exploratory Data Analysis](#Part-2:-Exploratory-Data-Analysis)\n",
        "* [Part 3: Feature Preprocessing](#Part-3:-Feature-Preprocessing)\n",
        "* [Part 4: Model Training](#Part-4:-Model-Training)\n",
        "* [Part 5: Model Evaluation](#Part-5:-Model-Evaluation)"
      ],
      "metadata": {
        "id": "kp0WbXgC_VYk"
      }
    },
    {
      "cell_type": "markdown",
      "source": [
        "# Part 0: Setup Google Drive Environment"
      ],
      "metadata": {
        "id": "zxzyG-7CBupL"
      }
    },
    {
      "cell_type": "code",
      "source": [
        "!pip install -U -q PyDrive\n",
        "\n",
        "from pydrive.auth import GoogleAuth\n",
        "from pydrive.drive import GoogleDrive\n",
        "from google.colab import auth\n",
        "from oauth2client.client import GoogleCredentials\n",
        "\n",
        "auth.authenticate_user()\n",
        "gauth = GoogleAuth()\n",
        "gauth.credentials = GoogleCredentials.get_application_default()\n",
        "drive = GoogleDrive(gauth)"
      ],
      "metadata": {
        "id": "A61Wqon6Bs7l"
      },
      "execution_count": null,
      "outputs": []
    },
    {
      "cell_type": "code",
      "source": [
        "file = drive.CreateFile({'id':'1jAJrgAxsyS-YEl9sJT46DE3_BeStmdFS'}) # https://drive.google.com/file/d/1jAJrgAxsyS-YEl9sJT46DE3_BeStmdFS/view?usp=sharing\n",
        "file.GetContentFile('TVdata.txt')  "
      ],
      "metadata": {
        "id": "uXq0uU9DCBBn"
      },
      "execution_count": null,
      "outputs": []
    },
    {
      "cell_type": "markdown",
      "metadata": {
        "id": "3z7sF7gvxTke"
      },
      "source": [
        "# Part 1 Load Data and Packages\n"
      ]
    },
    {
      "cell_type": "code",
      "metadata": {
        "id": "AfZpbClJ8ljR"
      },
      "source": [
        "#import libraries\n",
        "import numpy as np\n",
        "import pandas as pd\n",
        "import sklearn as sl\n",
        "import sklearn.preprocessing as preprocessing\n",
        "from sklearn.model_selection import train_test_split\n",
        "import seaborn as sns\n",
        "import matplotlib.pyplot as plt\n",
        "pd.set_option('display.float_format', lambda x: '%.3f' % x)\n",
        "pd.set_option('display.max_columns',None)\n",
        "pd.set_option('display.max_rows',None)\n"
      ],
      "execution_count": null,
      "outputs": []
    },
    {
      "cell_type": "code",
      "metadata": {
        "id": "-wJBauQaI6QZ",
        "colab": {
          "base_uri": "https://localhost:8080/"
        },
        "outputId": "9643a764-5d91-4430-8251-6aaaad03306b"
      },
      "source": [
        "TV=pd.read_table('TVdata.txt',header=0,sep=',',lineterminator='\\n')\n",
        "print(TV.head())"
      ],
      "execution_count": null,
      "outputs": [
        {
          "output_type": "stream",
          "name": "stdout",
          "text": [
            "   video_id  cvt_per_day  weighted_categorical_position  \\\n",
            "0    385504   307127.606                              1   \n",
            "1    300175   270338.426                              1   \n",
            "2    361899   256165.867                              1   \n",
            "3    308314   196622.721                              3   \n",
            "4    307201   159841.652                              1   \n",
            "\n",
            "   weighted_horizontal_poition  import_id  release_year  \\\n",
            "0                            3  lionsgate          2013   \n",
            "1                            3  lionsgate          2013   \n",
            "2                            3      other          2012   \n",
            "3                            4  lionsgate          2008   \n",
            "4                            3  lionsgate          2013   \n",
            "\n",
            "                                          genres  imdb_votes    budget  \\\n",
            "0                          Action,Thriller,Drama       69614  15000000   \n",
            "1                          Comedy,Crime,Thriller       46705  15000000   \n",
            "2                                    Crime,Drama      197596  26000000   \n",
            "3  Thriller,Drama,War,Documentary,Mystery,Action      356339  15000000   \n",
            "4             Crime,Thriller,Mystery,Documentary       46720  27220000   \n",
            "\n",
            "   boxoffice  imdb_rating  duration_in_mins  metacritic_score       awards  \\\n",
            "0   42930462        6.500           112.301                51  other award   \n",
            "1    3301046        6.500            94.983                41     no award   \n",
            "2   37397291        7.300           115.764                58  other award   \n",
            "3   15700000        7.600           130.704                94        Oscar   \n",
            "4    8551228        6.400           105.546                37  other award   \n",
            "\n",
            "    mpaa  star_category  \n",
            "0  PG-13          1.710  \n",
            "1      R          3.250  \n",
            "2      R          2.647  \n",
            "3      R          1.667  \n",
            "4      R          3.067  \n"
          ]
        }
      ]
    },
    {
      "cell_type": "markdown",
      "metadata": {
        "id": "3ES81w8WA2Wk"
      },
      "source": [
        "# Part 2: Exploratory Data Analysis"
      ]
    },
    {
      "cell_type": "markdown",
      "metadata": {
        "id": "CDv2MT3gBO70"
      },
      "source": [
        "## 2.1 Exclude erroneous data"
      ]
    },
    {
      "cell_type": "markdown",
      "metadata": {
        "id": "vDXp_OnZyRn6"
      },
      "source": [
        "Each video should only appear once in the list, duplicated video will be removed."
      ]
    },
    {
      "cell_type": "code",
      "metadata": {
        "id": "oyum-AqDATd3",
        "colab": {
          "base_uri": "https://localhost:8080/"
        },
        "outputId": "fd6531f2-1b8d-4a57-90fe-2a76d147cbdc"
      },
      "source": [
        "if TV['video_id'].duplicated().sum()==0:\n",
        "  print('no duplicated index')"
      ],
      "execution_count": null,
      "outputs": [
        {
          "output_type": "stream",
          "name": "stdout",
          "text": [
            "no duplicated index\n"
          ]
        }
      ]
    },
    {
      "cell_type": "markdown",
      "metadata": {
        "id": "v-N2W8E1ybr2"
      },
      "source": [
        "## 2.2 Understand numerical features"
      ]
    },
    {
      "cell_type": "markdown",
      "metadata": {
        "id": "i6DmON1TyoYw"
      },
      "source": [
        "### 2.2.1 Overview"
      ]
    },
    {
      "cell_type": "code",
      "metadata": {
        "id": "CJcon31EF26u",
        "colab": {
          "base_uri": "https://localhost:8080/"
        },
        "outputId": "7ca97eee-ef50-4e4e-f6e4-321519b79af9"
      },
      "source": [
        "TV.info()\n",
        "print(TV.drop(columns=['video_id','release_year'],axis=1).describe(percentiles=[0.1,0.25,0.5,0.75,0.95]))\n",
        "(TV==0).sum(axis=0)/TV.shape[0]"
      ],
      "execution_count": null,
      "outputs": [
        {
          "output_type": "stream",
          "name": "stdout",
          "text": [
            "<class 'pandas.core.frame.DataFrame'>\n",
            "RangeIndex: 4226 entries, 0 to 4225\n",
            "Data columns (total 16 columns):\n",
            " #   Column                         Non-Null Count  Dtype  \n",
            "---  ------                         --------------  -----  \n",
            " 0   video_id                       4226 non-null   int64  \n",
            " 1   cvt_per_day                    4226 non-null   float64\n",
            " 2   weighted_categorical_position  4226 non-null   int64  \n",
            " 3   weighted_horizontal_poition    4226 non-null   int64  \n",
            " 4   import_id                      4226 non-null   object \n",
            " 5   release_year                   4226 non-null   int64  \n",
            " 6   genres                         4226 non-null   object \n",
            " 7   imdb_votes                     4226 non-null   int64  \n",
            " 8   budget                         4226 non-null   int64  \n",
            " 9   boxoffice                      4226 non-null   int64  \n",
            " 10  imdb_rating                    4226 non-null   float64\n",
            " 11  duration_in_mins               4226 non-null   float64\n",
            " 12  metacritic_score               4226 non-null   int64  \n",
            " 13  awards                         4226 non-null   object \n",
            " 14  mpaa                           4226 non-null   object \n",
            " 15  star_category                  4226 non-null   float64\n",
            "dtypes: float64(4), int64(8), object(4)\n",
            "memory usage: 528.4+ KB\n",
            "       cvt_per_day  weighted_categorical_position  \\\n",
            "count     4226.000                       4226.000   \n",
            "mean      4218.630                          7.783   \n",
            "std      13036.080                          6.134   \n",
            "min          2.188                          1.000   \n",
            "10%        141.985                          3.000   \n",
            "25%        351.169                          4.000   \n",
            "50%       1193.500                          6.000   \n",
            "75%       3356.789                          9.000   \n",
            "95%      14692.834                         22.000   \n",
            "max     307127.606                         41.000   \n",
            "\n",
            "       weighted_horizontal_poition  imdb_votes        budget     boxoffice  \\\n",
            "count                     4226.000    4226.000      4226.000      4226.000   \n",
            "mean                        28.104    6462.924   2150743.439   2536338.472   \n",
            "std                         11.864   31596.007   7176604.483   8243516.266   \n",
            "min                          1.000       0.000         0.000         0.000   \n",
            "10%                         13.000       8.000         0.000         0.000   \n",
            "25%                         20.000      81.000         0.000         0.000   \n",
            "50%                         28.000     535.000         0.000         0.000   \n",
            "75%                         36.000    3053.000   1500000.000         0.000   \n",
            "95%                         48.000   26199.500  12000000.000   8551228.000   \n",
            "max                         70.000  948630.000 107000000.000 184208848.000   \n",
            "\n",
            "       imdb_rating  duration_in_mins  metacritic_score  star_category  \n",
            "count     4226.000          4226.000          4226.000       4226.000  \n",
            "mean         5.257            89.556            15.974          0.955  \n",
            "std          2.123            21.086            26.205          0.955  \n",
            "min          0.000             4.037             0.000          0.000  \n",
            "10%          2.300            62.391             0.000          0.000  \n",
            "25%          4.300            82.602             0.000          0.000  \n",
            "50%          5.800            90.730             0.000          1.000  \n",
            "75%          6.800            99.500            41.000          1.667  \n",
            "95%          7.800           119.131            65.000          2.597  \n",
            "max         10.000           246.017           100.000          4.000  \n"
          ]
        },
        {
          "output_type": "execute_result",
          "data": {
            "text/plain": [
              "video_id                        0.000\n",
              "cvt_per_day                     0.000\n",
              "weighted_categorical_position   0.000\n",
              "weighted_horizontal_poition     0.000\n",
              "import_id                       0.000\n",
              "release_year                    0.000\n",
              "genres                          0.000\n",
              "imdb_votes                      0.081\n",
              "budget                          0.581\n",
              "boxoffice                       0.756\n",
              "imdb_rating                     0.081\n",
              "duration_in_mins                0.000\n",
              "metacritic_score                0.713\n",
              "awards                          0.000\n",
              "mpaa                            0.000\n",
              "star_category                   0.437\n",
              "dtype: float64"
            ]
          },
          "metadata": {},
          "execution_count": 42
        }
      ]
    },
    {
      "cell_type": "markdown",
      "metadata": {
        "id": "spQmT1ZHyjVe"
      },
      "source": [
        "### 2.2.2 cvt_per_day feature"
      ]
    },
    {
      "cell_type": "code",
      "metadata": {
        "id": "e-BkewHWZEYa",
        "colab": {
          "base_uri": "https://localhost:8080/",
          "height": 296
        },
        "outputId": "379f9c68-9a82-4279-931a-b930185c1f8f"
      },
      "source": [
        "plt.hist(TV['cvt_per_day'],bins=range(0,15000,30),color='r',label='cvt_per_day',density=True,alpha=0.5)\n",
        "plt.title('Historgrams of cvt_per_day before data processing')\n",
        "plt.legend(loc='upper right')\n",
        "plt.xlabel('cvt_per_day')\n",
        "plt.ylabel('density')\n",
        "plt.show()"
      ],
      "execution_count": null,
      "outputs": [
        {
          "output_type": "display_data",
          "data": {
            "text/plain": [
              "<Figure size 432x288 with 1 Axes>"
            ],
            "image/png": "[encoded data removed]"
          },
          "metadata": {
            "needs_background": "light"
          }
        }
      ]
    },
    {
      "cell_type": "markdown",
      "metadata": {
        "id": "my0LY0Wf0CGb"
      },
      "source": [
        "### 2.2.3 Correlation among numerical features"
      ]
    },
    {
      "cell_type": "code",
      "metadata": {
        "id": "oSBeyIiGfLA8",
        "colab": {
          "base_uri": "https://localhost:8080/",
          "height": 428
        },
        "outputId": "353f6d4a-e46a-423f-e381-d117ffaef4ab"
      },
      "source": [
        "corr = TV[['cvt_per_day','weighted_categorical_position','weighted_horizontal_poition'\n",
        "               ,'release_year', 'imdb_votes', 'budget', 'boxoffice' ,'imdb_rating', \n",
        "               'duration_in_mins', 'metacritic_score', 'star_category']].corr()\n",
        "\n",
        "sns.heatmap(corr, cmap=\"YlGnBu\")"
      ],
      "execution_count": null,
      "outputs": [
        {
          "output_type": "execute_result",
          "data": {
            "text/plain": [
              "<matplotlib.axes._subplots.AxesSubplot at 0x7f092da2b250>"
            ]
          },
          "metadata": {},
          "execution_count": 44
        },
        {
          "output_type": "display_data",
          "data": {
            "text/plain": [
              "<Figure size 432x288 with 2 Axes>"
            ],
            "image/png": "[encoded data removed]"
          },
          "metadata": {
            "needs_background": "light"
          }
        }
      ]
    },
    {
      "cell_type": "code",
      "metadata": {
        "id": "zKOrme5yfSwc",
        "colab": {
          "base_uri": "https://localhost:8080/",
          "height": 458
        },
        "outputId": "1e142fd9-b45b-4748-971e-8102e68080e3"
      },
      "source": [
        "corr"
      ],
      "execution_count": null,
      "outputs": [
        {
          "output_type": "execute_result",
          "data": {
            "text/plain": [
              "                               cvt_per_day  weighted_categorical_position  \\\n",
              "cvt_per_day                          1.000                         -0.148   \n",
              "weighted_categorical_position       -0.148                          1.000   \n",
              "weighted_horizontal_poition         -0.302                         -0.084   \n",
              "release_year                         0.046                         -0.069   \n",
              "imdb_votes                           0.298                         -0.064   \n",
              "budget                               0.316                         -0.090   \n",
              "boxoffice                            0.312                         -0.074   \n",
              "imdb_rating                          0.059                         -0.116   \n",
              "duration_in_mins                     0.152                         -0.174   \n",
              "metacritic_score                     0.249                         -0.044   \n",
              "star_category                        0.247                         -0.123   \n",
              "\n",
              "                               weighted_horizontal_poition  release_year  \\\n",
              "cvt_per_day                                         -0.302         0.046   \n",
              "weighted_categorical_position                       -0.084        -0.069   \n",
              "weighted_horizontal_poition                          1.000         0.027   \n",
              "release_year                                         0.027         1.000   \n",
              "imdb_votes                                          -0.221        -0.083   \n",
              "budget                                              -0.211        -0.040   \n",
              "boxoffice                                           -0.245        -0.128   \n",
              "imdb_rating                                         -0.162        -0.199   \n",
              "duration_in_mins                                    -0.102        -0.097   \n",
              "metacritic_score                                    -0.255        -0.167   \n",
              "star_category                                       -0.168        -0.198   \n",
              "\n",
              "                               imdb_votes  budget  boxoffice  imdb_rating  \\\n",
              "cvt_per_day                         0.298   0.316      0.312        0.059   \n",
              "weighted_categorical_position      -0.064  -0.090     -0.074       -0.116   \n",
              "weighted_horizontal_poition        -0.221  -0.211     -0.245       -0.162   \n",
              "release_year                       -0.083  -0.040     -0.128       -0.199   \n",
              "imdb_votes                          1.000   0.273      0.531        0.163   \n",
              "budget                              0.273   1.000      0.505        0.106   \n",
              "boxoffice                           0.531   0.505      1.000        0.164   \n",
              "imdb_rating                         0.163   0.106      0.164        1.000   \n",
              "duration_in_mins                    0.156   0.251      0.226        0.344   \n",
              "metacritic_score                    0.322   0.315      0.465        0.347   \n",
              "star_category                       0.225   0.322      0.322        0.192   \n",
              "\n",
              "                               duration_in_mins  metacritic_score  \\\n",
              "cvt_per_day                               0.152             0.249   \n",
              "weighted_categorical_position            -0.174            -0.044   \n",
              "weighted_horizontal_poition              -0.102            -0.255   \n",
              "release_year                             -0.097            -0.167   \n",
              "imdb_votes                                0.156             0.322   \n",
              "budget                                    0.251             0.315   \n",
              "boxoffice                                 0.226             0.465   \n",
              "imdb_rating                               0.344             0.347   \n",
              "duration_in_mins                          1.000             0.327   \n",
              "metacritic_score                          0.327             1.000   \n",
              "star_category                             0.309             0.452   \n",
              "\n",
              "                               star_category  \n",
              "cvt_per_day                            0.247  \n",
              "weighted_categorical_position         -0.123  \n",
              "weighted_horizontal_poition           -0.168  \n",
              "release_year                          -0.198  \n",
              "imdb_votes                             0.225  \n",
              "budget                                 0.322  \n",
              "boxoffice                              0.322  \n",
              "imdb_rating                            0.192  \n",
              "duration_in_mins                       0.309  \n",
              "metacritic_score                       0.452  \n",
              "star_category                          1.000  "
            ],
            "text/html": [
              "\n",
              "  <div id=\"df-fa25f92c-cb82-4109-b3e2-0a5482c635a5\">\n",
              "    <div class=\"colab-df-container\">\n",
              "      <div>\n",
              "<style scoped>\n",
              "    .dataframe tbody tr th:only-of-type {\n",
              "        vertical-align: middle;\n",
              "    }\n",
              "\n",
              "    .dataframe tbody tr th {\n",
              "        vertical-align: top;\n",
              "    }\n",
              "\n",
              "    .dataframe thead th {\n",
              "        text-align: right;\n",
              "    }\n",
              "</style>\n",
              "<table border=\"1\" class=\"dataframe\">\n",
              "  <thead>\n",
              "    <tr style=\"text-align: right;\">\n",
              "      <th></th>\n",
              "      <th>cvt_per_day</th>\n",
              "      <th>weighted_categorical_position</th>\n",
              "      <th>weighted_horizontal_poition</th>\n",
              "      <th>release_year</th>\n",
              "      <th>imdb_votes</th>\n",
              "      <th>budget</th>\n",
              "      <th>boxoffice</th>\n",
              "      <th>imdb_rating</th>\n",
              "      <th>duration_in_mins</th>\n",
              "      <th>metacritic_score</th>\n",
              "      <th>star_category</th>\n",
              "    </tr>\n",
              "  </thead>\n",
              "  <tbody>\n",
              "    <tr>\n",
              "      <th>cvt_per_day</th>\n",
              "      <td>1.000</td>\n",
              "      <td>-0.148</td>\n",
              "      <td>-0.302</td>\n",
              "      <td>0.046</td>\n",
              "      <td>0.298</td>\n",
              "      <td>0.316</td>\n",
              "      <td>0.312</td>\n",
              "      <td>0.059</td>\n",
              "      <td>0.152</td>\n",
              "      <td>0.249</td>\n",
              "      <td>0.247</td>\n",
              "    </tr>\n",
              "    <tr>\n",
              "      <th>weighted_categorical_position</th>\n",
              "      <td>-0.148</td>\n",
              "      <td>1.000</td>\n",
              "      <td>-0.084</td>\n",
              "      <td>-0.069</td>\n",
              "      <td>-0.064</td>\n",
              "      <td>-0.090</td>\n",
              "      <td>-0.074</td>\n",
              "      <td>-0.116</td>\n",
              "      <td>-0.174</td>\n",
              "      <td>-0.044</td>\n",
              "      <td>-0.123</td>\n",
              "    </tr>\n",
              "    <tr>\n",
              "      <th>weighted_horizontal_poition</th>\n",
              "      <td>-0.302</td>\n",
              "      <td>-0.084</td>\n",
              "      <td>1.000</td>\n",
              "      <td>0.027</td>\n",
              "      <td>-0.221</td>\n",
              "      <td>-0.211</td>\n",
              "      <td>-0.245</td>\n",
              "      <td>-0.162</td>\n",
              "      <td>-0.102</td>\n",
              "      <td>-0.255</td>\n",
              "      <td>-0.168</td>\n",
              "    </tr>\n",
              "    <tr>\n",
              "      <th>release_year</th>\n",
              "      <td>0.046</td>\n",
              "      <td>-0.069</td>\n",
              "      <td>0.027</td>\n",
              "      <td>1.000</td>\n",
              "      <td>-0.083</td>\n",
              "      <td>-0.040</td>\n",
              "      <td>-0.128</td>\n",
              "      <td>-0.199</td>\n",
              "      <td>-0.097</td>\n",
              "      <td>-0.167</td>\n",
              "      <td>-0.198</td>\n",
              "    </tr>\n",
              "    <tr>\n",
              "      <th>imdb_votes</th>\n",
              "      <td>0.298</td>\n",
              "      <td>-0.064</td>\n",
              "      <td>-0.221</td>\n",
              "      <td>-0.083</td>\n",
              "      <td>1.000</td>\n",
              "      <td>0.273</td>\n",
              "      <td>0.531</td>\n",
              "      <td>0.163</td>\n",
              "      <td>0.156</td>\n",
              "      <td>0.322</td>\n",
              "      <td>0.225</td>\n",
              "    </tr>\n",
              "    <tr>\n",
              "      <th>budget</th>\n",
              "      <td>0.316</td>\n",
              "      <td>-0.090</td>\n",
              "      <td>-0.211</td>\n",
              "      <td>-0.040</td>\n",
              "      <td>0.273</td>\n",
              "      <td>1.000</td>\n",
              "      <td>0.505</td>\n",
              "      <td>0.106</td>\n",
              "      <td>0.251</td>\n",
              "      <td>0.315</td>\n",
              "      <td>0.322</td>\n",
              "    </tr>\n",
              "    <tr>\n",
              "      <th>boxoffice</th>\n",
              "      <td>0.312</td>\n",
              "      <td>-0.074</td>\n",
              "      <td>-0.245</td>\n",
              "      <td>-0.128</td>\n",
              "      <td>0.531</td>\n",
              "      <td>0.505</td>\n",
              "      <td>1.000</td>\n",
              "      <td>0.164</td>\n",
              "      <td>0.226</td>\n",
              "      <td>0.465</td>\n",
              "      <td>0.322</td>\n",
              "    </tr>\n",
              "    <tr>\n",
              "      <th>imdb_rating</th>\n",
              "      <td>0.059</td>\n",
              "      <td>-0.116</td>\n",
              "      <td>-0.162</td>\n",
              "      <td>-0.199</td>\n",
              "      <td>0.163</td>\n",
              "      <td>0.106</td>\n",
              "      <td>0.164</td>\n",
              "      <td>1.000</td>\n",
              "      <td>0.344</td>\n",
              "      <td>0.347</td>\n",
              "      <td>0.192</td>\n",
              "    </tr>\n",
              "    <tr>\n",
              "      <th>duration_in_mins</th>\n",
              "      <td>0.152</td>\n",
              "      <td>-0.174</td>\n",
              "      <td>-0.102</td>\n",
              "      <td>-0.097</td>\n",
              "      <td>0.156</td>\n",
              "      <td>0.251</td>\n",
              "      <td>0.226</td>\n",
              "      <td>0.344</td>\n",
              "      <td>1.000</td>\n",
              "      <td>0.327</td>\n",
              "      <td>0.309</td>\n",
              "    </tr>\n",
              "    <tr>\n",
              "      <th>metacritic_score</th>\n",
              "      <td>0.249</td>\n",
              "      <td>-0.044</td>\n",
              "      <td>-0.255</td>\n",
              "      <td>-0.167</td>\n",
              "      <td>0.322</td>\n",
              "      <td>0.315</td>\n",
              "      <td>0.465</td>\n",
              "      <td>0.347</td>\n",
              "      <td>0.327</td>\n",
              "      <td>1.000</td>\n",
              "      <td>0.452</td>\n",
              "    </tr>\n",
              "    <tr>\n",
              "      <th>star_category</th>\n",
              "      <td>0.247</td>\n",
              "      <td>-0.123</td>\n",
              "      <td>-0.168</td>\n",
              "      <td>-0.198</td>\n",
              "      <td>0.225</td>\n",
              "      <td>0.322</td>\n",
              "      <td>0.322</td>\n",
              "      <td>0.192</td>\n",
              "      <td>0.309</td>\n",
              "      <td>0.452</td>\n",
              "      <td>1.000</td>\n",
              "    </tr>\n",
              "  </tbody>\n",
              "</table>\n",
              "</div>\n",
              "      <button class=\"colab-df-convert\" onclick=\"convertToInteractive('df-fa25f92c-cb82-4109-b3e2-0a5482c635a5')\"\n",
              "              title=\"Convert this dataframe to an interactive table.\"\n",
              "              style=\"display:none;\">\n",
              "        \n",
              "  <svg xmlns=\"http://www.w3.org/2000/svg\" height=\"24px\"viewBox=\"0 0 24 24\"\n",
              "       width=\"24px\">\n",
              "    <path d=\"M0 0h24v24H0V0z\" fill=\"none\"/>\n",
              "    <path d=\"M18.56 5.44l.94 2.06.94-2.06 2.06-.94-2.06-.94-.94-2.06-.94 2.06-2.06.94zm-11 1L8.5 8.5l.94-2.06 2.06-.94-2.06-.94L8.5 2.5l-.94 2.06-2.06.94zm10 10l.94 2.06.94-2.06 2.06-.94-2.06-.94-.94-2.06-.94 2.06-2.06.94z\"/><path d=\"M17.41 7.96l-1.37-1.37c-.4-.4-.92-.59-1.43-.59-.52 0-1.04.2-1.43.59L10.3 9.45l-7.72 7.72c-.78.78-.78 2.05 0 2.83L4 21.41c.39.39.9.59 1.41.59.51 0 1.02-.2 1.41-.59l7.78-7.78 2.81-2.81c.8-.78.8-2.07 0-2.86zM5.41 20L4 18.59l7.72-7.72 1.47 1.35L5.41 20z\"/>\n",
              "  </svg>\n",
              "      </button>\n",
              "      \n",
              "  <style>\n",
              "    .colab-df-container {\n",
              "      display:flex;\n",
              "      flex-wrap:wrap;\n",
              "      gap: 12px;\n",
              "    }\n",
              "\n",
              "    .colab-df-convert {\n",
              "      background-color: #E8F0FE;\n",
              "      border: none;\n",
              "      border-radius: 50%;\n",
              "      cursor: pointer;\n",
              "      display: none;\n",
              "      fill: #1967D2;\n",
              "      height: 32px;\n",
              "      padding: 0 0 0 0;\n",
              "      width: 32px;\n",
              "    }\n",
              "\n",
              "    .colab-df-convert:hover {\n",
              "      background-color: #E2EBFA;\n",
              "      box-shadow: 0px 1px 2px rgba(60, 64, 67, 0.3), 0px 1px 3px 1px rgba(60, 64, 67, 0.15);\n",
              "      fill: #174EA6;\n",
              "    }\n",
              "\n",
              "    [theme=dark] .colab-df-convert {\n",
              "      background-color: #3B4455;\n",
              "      fill: #D2E3FC;\n",
              "    }\n",
              "\n",
              "    [theme=dark] .colab-df-convert:hover {\n",
              "      background-color: #434B5C;\n",
              "      box-shadow: 0px 1px 3px 1px rgba(0, 0, 0, 0.15);\n",
              "      filter: drop-shadow(0px 1px 2px rgba(0, 0, 0, 0.3));\n",
              "      fill: #FFFFFF;\n",
              "    }\n",
              "  </style>\n",
              "\n",
              "      <script>\n",
              "        const buttonEl =\n",
              "          document.querySelector('#df-fa25f92c-cb82-4109-b3e2-0a5482c635a5 button.colab-df-convert');\n",
              "        buttonEl.style.display =\n",
              "          google.colab.kernel.accessAllowed ? 'block' : 'none';\n",
              "\n",
              "        async function convertToInteractive(key) {\n",
              "          const element = document.querySelector('#df-fa25f92c-cb82-4109-b3e2-0a5482c635a5');\n",
              "          const dataTable =\n",
              "            await google.colab.kernel.invokeFunction('convertToInteractive',\n",
              "                                                     [key], {});\n",
              "          if (!dataTable) return;\n",
              "\n",
              "          const docLinkHtml = 'Like what you see? Visit the ' +\n",
              "            '<a target=\"_blank\" href=https://colab.research.google.com/notebooks/data_table.ipynb>data table notebook</a>'\n",
              "            + ' to learn more about interactive tables.';\n",
              "          element.innerHTML = '';\n",
              "          dataTable['output_type'] = 'display_data';\n",
              "          await google.colab.output.renderOutput(dataTable, element);\n",
              "          const docLink = document.createElement('div');\n",
              "          docLink.innerHTML = docLinkHtml;\n",
              "          element.appendChild(docLink);\n",
              "        }\n",
              "      </script>\n",
              "    </div>\n",
              "  </div>\n",
              "  "
            ]
          },
          "metadata": {},
          "execution_count": 45
        }
      ]
    },
    {
      "cell_type": "markdown",
      "metadata": {
        "id": "fVUMUbzs0UrM"
      },
      "source": [
        "## 2.3 Understand categorical features"
      ]
    },
    {
      "cell_type": "markdown",
      "metadata": {
        "id": "kFWDC_kmieQX"
      },
      "source": [
        "### 2.3.1 Distribution of standard categorical features"
      ]
    },
    {
      "cell_type": "code",
      "metadata": {
        "id": "U5Q7QppFfW4P",
        "colab": {
          "base_uri": "https://localhost:8080/",
          "height": 1000
        },
        "outputId": "4dcac28d-de96-40c7-d3c4-105c0a4ba9a0"
      },
      "source": [
        "sns.stripplot(x='import_id', y='cvt_per_day', data=TV,jitter=True)\n",
        "plt.show()\n",
        "print(TV['import_id'].value_counts())\n",
        "\n",
        "sns.stripplot(x='mpaa', y='cvt_per_day', data=TV,jitter=True)\n",
        "plt.show()\n",
        "print(TV['mpaa'].value_counts())\n",
        "\n",
        "sns.stripplot(x='awards', y='cvt_per_day', data=TV, jitter=True)\n",
        "plt.show()\n",
        "print(TV['awards'].value_counts())"
      ],
      "execution_count": null,
      "outputs": [
        {
          "output_type": "display_data",
          "data": {
            "text/plain": [
              "<Figure size 432x288 with 1 Axes>"
            ],
            "image/png": "[encoded data removed]"
          },
          "metadata": {
            "needs_background": "light"
          }
        },
        {
          "output_type": "stream",
          "name": "stdout",
          "text": [
            "other        2963\n",
            "lionsgate     677\n",
            "mgm           445\n",
            "paramount     141\n",
            "Name: import_id, dtype: int64\n"
          ]
        },
        {
          "output_type": "display_data",
          "data": {
            "text/plain": [
              "<Figure size 432x288 with 1 Axes>"
            ],
            "image/png": "[encoded data removed]"
          },
          "metadata": {
            "needs_background": "light"
          }
        },
        {
          "output_type": "stream",
          "name": "stdout",
          "text": [
            "NotRated    2158\n",
            "R           1158\n",
            "PG-13        426\n",
            "PG           353\n",
            "G            125\n",
            "NC-17          6\n",
            "Name: mpaa, dtype: int64\n"
          ]
        },
        {
          "output_type": "display_data",
          "data": {
            "text/plain": [
              "<Figure size 432x288 with 1 Axes>"
            ],
            "image/png": "[encoded data removed]"
          },
          "metadata": {
            "needs_background": "light"
          }
        },
        {
          "output_type": "stream",
          "name": "stdout",
          "text": [
            "no award        2569\n",
            "other award     1453\n",
            "Oscar            141\n",
            "Golden Globe      44\n",
            "BAFTA             19\n",
            "Name: awards, dtype: int64\n"
          ]
        }
      ]
    },
    {
      "cell_type": "markdown",
      "metadata": {
        "id": "4HU4Kd_l0lmt"
      },
      "source": [
        "### 2.3.2 Distribution of splited genres"
      ]
    },
    {
      "cell_type": "markdown",
      "metadata": {
        "id": "6p0LW_6K0xpj"
      },
      "source": [
        "Some videos belongs to more than 1 genre, the genre of each video is splited, this would help emphasize the effect of each individual genre."
      ]
    },
    {
      "cell_type": "code",
      "metadata": {
        "id": "I0RXWm-bhlpq",
        "colab": {
          "base_uri": "https://localhost:8080/",
          "height": 863
        },
        "outputId": "2a3e1c35-a8db-4d3b-c41a-3b40f3473f79"
      },
      "source": [
        "# generes explore, split the genre of each video\n",
        "gen_split = TV['genres'].str.get_dummies(sep=',').sum()\n",
        "print(gen_split)\n",
        "\n",
        "gen_split.sort_values(ascending=False).plot.bar()"
      ],
      "execution_count": null,
      "outputs": [
        {
          "output_type": "stream",
          "name": "stdout",
          "text": [
            "Action                    739\n",
            "Adult                       3\n",
            "Adventure                 363\n",
            "Animation                 129\n",
            "Anime                      11\n",
            "Comedy                   1184\n",
            "Crime                     437\n",
            "Documentary               671\n",
            "Drama                    1677\n",
            "Fantasy                   243\n",
            "Foreign/International      64\n",
            "Holiday                     1\n",
            "Horror                    762\n",
            "Independent               393\n",
            "Kids & Family             280\n",
            "LGBT                        2\n",
            "Lifestyle                   7\n",
            "Music                     171\n",
            "Musicals                   68\n",
            "Mystery                   375\n",
            "Reality                     9\n",
            "Romance                   591\n",
            "Sci-Fi                    363\n",
            "Sport                      77\n",
            "Thriller                  879\n",
            "War                       102\n",
            "Western                   102\n",
            "dtype: int64\n"
          ]
        },
        {
          "output_type": "execute_result",
          "data": {
            "text/plain": [
              "<matplotlib.axes._subplots.AxesSubplot at 0x7f092e22b290>"
            ]
          },
          "metadata": {},
          "execution_count": 47
        },
        {
          "output_type": "display_data",
          "data": {
            "text/plain": [
              "<Figure size 432x288 with 1 Axes>"
            ],
            "image/png": "[encoded data removed]"
          },
          "metadata": {
            "needs_background": "light"
          }
        }
      ]
    },
    {
      "cell_type": "markdown",
      "metadata": {
        "id": "f4DpGwy900nG"
      },
      "source": [
        "### 2.3.3 Distribution of release_year"
      ]
    },
    {
      "cell_type": "markdown",
      "metadata": {
        "id": "WtiAH_7m00tJ"
      },
      "source": [
        "The release year of video varies through a wide range. Considering the popularity of a video usually decays over time, the release_year should be bucketed based on the release_year range."
      ]
    },
    {
      "cell_type": "code",
      "metadata": {
        "id": "2zC-7REjisJ1",
        "colab": {
          "base_uri": "https://localhost:8080/",
          "height": 296
        },
        "outputId": "223e4290-bce9-4a87-eb81-3c0391bcb8dc"
      },
      "source": [
        "plt.hist(TV['release_year'].values, bins = range(1910, 2017, 1), alpha = 0.5, color='r', label = 'release_year')\n",
        "plt.legend(loc ='upper left')\n",
        "plt.title('Historgrams of release_year before data processing')\n",
        "plt.xlabel('release_year')\n",
        "plt.ylabel('Count')\n",
        "plt.show()\n"
      ],
      "execution_count": null,
      "outputs": [
        {
          "output_type": "display_data",
          "data": {
            "text/plain": [
              "<Figure size 432x288 with 1 Axes>"
            ],
            "image/png": "[encoded data removed]"
          },
          "metadata": {
            "needs_background": "light"
          }
        }
      ]
    },
    {
      "cell_type": "markdown",
      "metadata": {
        "id": "-kAuJlbm1ydZ"
      },
      "source": [
        "# Part 3: Feature Preprocessing"
      ]
    },
    {
      "cell_type": "markdown",
      "metadata": {
        "id": "wHqQu2rK12AH"
      },
      "source": [
        "## 3.1 Categorical features"
      ]
    },
    {
      "cell_type": "markdown",
      "metadata": {
        "id": "VJZSa3w515W6"
      },
      "source": [
        "There are 5 categorical features: import_id, mpaa, awards, genres, and release_year. There is no missing data in them. They can be converted into dummy/indicators.\n",
        "\n",
        "The first 3 have relatively small sub-types, they can be easily converted to dummies.\n",
        "\n",
        "The 'genres' have 27 different sub-types, 6 of them are rarely observed (refer to previous section). It's reasonable to group these 6 into 1\n"
      ]
    },
    {
      "cell_type": "code",
      "metadata": {
        "id": "NhEq5dXLkkIo"
      },
      "source": [
        "# Convert 3 Categorical variables into dummy variables\n",
        "d_import_id = pd.get_dummies(TV['import_id']).astype(np.int64)\n",
        "d_mpaa = pd.get_dummies(TV['mpaa']).astype(np.int64)\n",
        "d_awards = pd.get_dummies(TV['awards']).astype(np.int64)"
      ],
      "execution_count": null,
      "outputs": []
    },
    {
      "cell_type": "code",
      "metadata": {
        "id": "-gF0IhvL2Edh"
      },
      "source": [
        "# Convert 'genres' into dummy variables\n",
        "d_genres=TV['genres'].str.get_dummies(sep=',').astype(np.int64)\n",
        "d_genres['Misc_genres']=d_genres['Anime']|d_genres['Reality']|d_genres['Lifestyle']|d_genres['Adult']|d_genres['LGBT']|d_genres['Holiday']\n",
        "d_genres.drop(['Anime', 'Reality','Lifestyle', 'Adult','LGBT','Holiday'], inplace=True, axis=1)"
      ],
      "execution_count": null,
      "outputs": []
    },
    {
      "cell_type": "code",
      "metadata": {
        "id": "rrYuplqCU4uH",
        "colab": {
          "base_uri": "https://localhost:8080/"
        },
        "outputId": "afcc07c7-3eae-44c2-a143-066b88732eee"
      },
      "source": [
        "TV['release_year'].quantile([0.1,0.2,0.3,0.4,0.5,0.6,0.7,0.8,0.9])"
      ],
      "execution_count": null,
      "outputs": [
        {
          "output_type": "execute_result",
          "data": {
            "text/plain": [
              "0.100   1974.000\n",
              "0.200   1991.000\n",
              "0.300   2001.000\n",
              "0.400   2006.000\n",
              "0.500   2008.000\n",
              "0.600   2010.000\n",
              "0.700   2012.000\n",
              "0.800   2013.000\n",
              "0.900   2014.000\n",
              "Name: release_year, dtype: float64"
            ]
          },
          "metadata": {},
          "execution_count": 51
        }
      ]
    },
    {
      "cell_type": "code",
      "metadata": {
        "id": "2stB_bL3n1Uv"
      },
      "source": [
        "# bin release_year and convert into dummies(Divide the release_data into 10 bins, and each bin contains 10% data)\n",
        "bin_year = [1916, 1974, 1991, 2001, 2006, 2008, 2010, 2012, 2013, 2014, 2017]\n",
        "year_range = ['1916-1974', '1974-1991', '1991-2001', '2001-2006','2006-2008','2008-2010','2010-2012','2012-2013',\n",
        "              '2013-2014','2014-2017']\n",
        "\n",
        "year_bin = pd.cut(TV['release_year'], bin_year, labels=year_range)\n",
        "d_year = pd.get_dummies(year_bin).astype(np.int64)"
      ],
      "execution_count": null,
      "outputs": []
    },
    {
      "cell_type": "code",
      "metadata": {
        "id": "MjdlBN_roOZO",
        "colab": {
          "base_uri": "https://localhost:8080/"
        },
        "outputId": "38f7e27f-68d9-4313-83eb-6e33c53a9180"
      },
      "source": [
        "# new dataframe, drop the previous categorical features, add new dummy variables, check for null\n",
        "\n",
        "temp_tv=TV.drop(['import_id', 'mpaa','awards','genres', 'release_year'], axis=1)\n",
        "\n",
        "newTV = pd.concat([temp_tv, d_import_id, d_mpaa, d_awards, d_genres, d_year], axis=1)\n",
        "print(newTV.head())"
      ],
      "execution_count": null,
      "outputs": [
        {
          "output_type": "stream",
          "name": "stdout",
          "text": [
            "   video_id  cvt_per_day  weighted_categorical_position  \\\n",
            "0    385504   307127.606                              1   \n",
            "1    300175   270338.426                              1   \n",
            "2    361899   256165.867                              1   \n",
            "3    308314   196622.721                              3   \n",
            "4    307201   159841.652                              1   \n",
            "\n",
            "   weighted_horizontal_poition  imdb_votes    budget  boxoffice  imdb_rating  \\\n",
            "0                            3       69614  15000000   42930462        6.500   \n",
            "1                            3       46705  15000000    3301046        6.500   \n",
            "2                            3      197596  26000000   37397291        7.300   \n",
            "3                            4      356339  15000000   15700000        7.600   \n",
            "4                            3       46720  27220000    8551228        6.400   \n",
            "\n",
            "   duration_in_mins  metacritic_score  star_category  lionsgate  mgm  other  \\\n",
            "0           112.301                51          1.710          1    0      0   \n",
            "1            94.983                41          3.250          1    0      0   \n",
            "2           115.764                58          2.647          0    0      1   \n",
            "3           130.704                94          1.667          1    0      0   \n",
            "4           105.546                37          3.067          1    0      0   \n",
            "\n",
            "   paramount  G  NC-17  NotRated  PG  PG-13  R  BAFTA  Golden Globe  Oscar  \\\n",
            "0          0  0      0         0   0      1  0      0             0      0   \n",
            "1          0  0      0         0   0      0  1      0             0      0   \n",
            "2          0  0      0         0   0      0  1      0             0      0   \n",
            "3          0  0      0         0   0      0  1      0             0      1   \n",
            "4          0  0      0         0   0      0  1      0             0      0   \n",
            "\n",
            "   no award  other award  Action  Adventure  Animation  Comedy  Crime  \\\n",
            "0         0            1       1          0          0       0      0   \n",
            "1         1            0       0          0          0       1      1   \n",
            "2         0            1       0          0          0       0      1   \n",
            "3         0            0       1          0          0       0      0   \n",
            "4         0            1       0          0          0       0      1   \n",
            "\n",
            "   Documentary  Drama  Fantasy  Foreign/International  Horror  Independent  \\\n",
            "0            0      1        0                      0       0            0   \n",
            "1            0      0        0                      0       0            0   \n",
            "2            0      1        0                      0       0            0   \n",
            "3            1      1        0                      0       0            0   \n",
            "4            1      0        0                      0       0            0   \n",
            "\n",
            "   Kids & Family  Music  Musicals  Mystery  Romance  Sci-Fi  Sport  Thriller  \\\n",
            "0              0      0         0        0        0       0      0         1   \n",
            "1              0      0         0        0        0       0      0         1   \n",
            "2              0      0         0        0        0       0      0         0   \n",
            "3              0      0         0        1        0       0      0         1   \n",
            "4              0      0         0        1        0       0      0         1   \n",
            "\n",
            "   War  Western  Misc_genres  1916-1974  1974-1991  1991-2001  2001-2006  \\\n",
            "0    0        0            0          0          0          0          0   \n",
            "1    0        0            0          0          0          0          0   \n",
            "2    0        0            0          0          0          0          0   \n",
            "3    1        0            0          0          0          0          0   \n",
            "4    0        0            0          0          0          0          0   \n",
            "\n",
            "   2006-2008  2008-2010  2010-2012  2012-2013  2013-2014  2014-2017  \n",
            "0          0          0          0          1          0          0  \n",
            "1          0          0          0          1          0          0  \n",
            "2          0          0          1          0          0          0  \n",
            "3          1          0          0          0          0          0  \n",
            "4          0          0          0          1          0          0  \n"
          ]
        }
      ]
    },
    {
      "cell_type": "markdown",
      "metadata": {
        "id": "N76z14XL2f2n"
      },
      "source": [
        "## 3.2 Missing data"
      ]
    },
    {
      "cell_type": "markdown",
      "metadata": {
        "id": "Z5nrzz8i2kgs"
      },
      "source": [
        "Among the 10 numerical features (not include video_id), 4 features have over 25% of missing values (shown as '0'): budget, boxoffice, metacritic_score, star_category. 2 features have less than 10% of missing data: imdb_votes, imdb_rating.\n",
        "\n",
        "There are 3242 samples have at least one missing data."
      ]
    },
    {
      "cell_type": "markdown",
      "metadata": {
        "id": "yEsN836gC4Zw"
      },
      "source": [
        "Deal with the missing data: According to the data info, there is no Null value in the dataset.\n",
        "But the zero value can be a potential candidate for missing data. \n",
        "So it is necssary to check the ratio of zero value in our numeric feature"
      ]
    },
    {
      "cell_type": "code",
      "metadata": {
        "id": "WxdTKOiMDdD5",
        "colab": {
          "base_uri": "https://localhost:8080/"
        },
        "outputId": "34e4d2ba-f63b-474f-9836-66ea2b9d5554"
      },
      "source": [
        "newTV[['budget','boxoffice','metacritic_score', 'star_category','imdb_votes', 'imdb_rating']] = newTV[['budget','boxoffice','metacritic_score', 'star_category','imdb_votes', 'imdb_rating']].replace(0, np.nan)\n",
        "print(newTV.info())"
      ],
      "execution_count": null,
      "outputs": [
        {
          "output_type": "stream",
          "name": "stdout",
          "text": [
            "<class 'pandas.core.frame.DataFrame'>\n",
            "RangeIndex: 4226 entries, 0 to 4225\n",
            "Data columns (total 58 columns):\n",
            " #   Column                         Non-Null Count  Dtype  \n",
            "---  ------                         --------------  -----  \n",
            " 0   video_id                       4226 non-null   int64  \n",
            " 1   cvt_per_day                    4226 non-null   float64\n",
            " 2   weighted_categorical_position  4226 non-null   int64  \n",
            " 3   weighted_horizontal_poition    4226 non-null   int64  \n",
            " 4   imdb_votes                     3882 non-null   float64\n",
            " 5   budget                         1772 non-null   float64\n",
            " 6   boxoffice                      1032 non-null   float64\n",
            " 7   imdb_rating                    3882 non-null   float64\n",
            " 8   duration_in_mins               4226 non-null   float64\n",
            " 9   metacritic_score               1214 non-null   float64\n",
            " 10  star_category                  2380 non-null   float64\n",
            " 11  lionsgate                      4226 non-null   int64  \n",
            " 12  mgm                            4226 non-null   int64  \n",
            " 13  other                          4226 non-null   int64  \n",
            " 14  paramount                      4226 non-null   int64  \n",
            " 15  G                              4226 non-null   int64  \n",
            " 16  NC-17                          4226 non-null   int64  \n",
            " 17  NotRated                       4226 non-null   int64  \n",
            " 18  PG                             4226 non-null   int64  \n",
            " 19  PG-13                          4226 non-null   int64  \n",
            " 20  R                              4226 non-null   int64  \n",
            " 21  BAFTA                          4226 non-null   int64  \n",
            " 22  Golden Globe                   4226 non-null   int64  \n",
            " 23  Oscar                          4226 non-null   int64  \n",
            " 24  no award                       4226 non-null   int64  \n",
            " 25  other award                    4226 non-null   int64  \n",
            " 26  Action                         4226 non-null   int64  \n",
            " 27  Adventure                      4226 non-null   int64  \n",
            " 28  Animation                      4226 non-null   int64  \n",
            " 29  Comedy                         4226 non-null   int64  \n",
            " 30  Crime                          4226 non-null   int64  \n",
            " 31  Documentary                    4226 non-null   int64  \n",
            " 32  Drama                          4226 non-null   int64  \n",
            " 33  Fantasy                        4226 non-null   int64  \n",
            " 34  Foreign/International          4226 non-null   int64  \n",
            " 35  Horror                         4226 non-null   int64  \n",
            " 36  Independent                    4226 non-null   int64  \n",
            " 37  Kids & Family                  4226 non-null   int64  \n",
            " 38  Music                          4226 non-null   int64  \n",
            " 39  Musicals                       4226 non-null   int64  \n",
            " 40  Mystery                        4226 non-null   int64  \n",
            " 41  Romance                        4226 non-null   int64  \n",
            " 42  Sci-Fi                         4226 non-null   int64  \n",
            " 43  Sport                          4226 non-null   int64  \n",
            " 44  Thriller                       4226 non-null   int64  \n",
            " 45  War                            4226 non-null   int64  \n",
            " 46  Western                        4226 non-null   int64  \n",
            " 47  Misc_genres                    4226 non-null   int64  \n",
            " 48  1916-1974                      4226 non-null   int64  \n",
            " 49  1974-1991                      4226 non-null   int64  \n",
            " 50  1991-2001                      4226 non-null   int64  \n",
            " 51  2001-2006                      4226 non-null   int64  \n",
            " 52  2006-2008                      4226 non-null   int64  \n",
            " 53  2008-2010                      4226 non-null   int64  \n",
            " 54  2010-2012                      4226 non-null   int64  \n",
            " 55  2012-2013                      4226 non-null   int64  \n",
            " 56  2013-2014                      4226 non-null   int64  \n",
            " 57  2014-2017                      4226 non-null   int64  \n",
            "dtypes: float64(8), int64(50)\n",
            "memory usage: 1.9 MB\n",
            "None\n"
          ]
        }
      ]
    },
    {
      "cell_type": "markdown",
      "metadata": {
        "id": "Q9BKknWx3k9l"
      },
      "source": [
        "Filling missing data with mean value（I tried filling the missing value with the median and the mean and found that filling with the mean was better）"
      ]
    },
    {
      "cell_type": "code",
      "metadata": {
        "id": "Jf8oxZlD3ap5",
        "colab": {
          "base_uri": "https://localhost:8080/"
        },
        "outputId": "2a4de485-24ff-4057-8681-18e690accc44"
      },
      "source": [
        "newTV1=newTV.copy()\n",
        "newTV1['boxoffice']=newTV1['boxoffice'].fillna(newTV1['boxoffice'].mean())\n",
        "newTV1['metacritic_score']=newTV1['metacritic_score'].fillna(newTV1['metacritic_score'].mean())\n",
        "newTV1['star_category']=newTV1['star_category'].fillna(newTV1['star_category'].mean())\n",
        "newTV1['imdb_votes']=newTV1['imdb_votes'].fillna(newTV1['imdb_votes'].mean())\n",
        "newTV1['imdb_rating']=newTV1['imdb_rating'].fillna(newTV1['imdb_rating'].mean())\n",
        "newTV1['budget']=newTV1['budget'].fillna(newTV1['budget'].mean())\n",
        "print(newTV1.info())"
      ],
      "execution_count": null,
      "outputs": [
        {
          "output_type": "stream",
          "name": "stdout",
          "text": [
            "<class 'pandas.core.frame.DataFrame'>\n",
            "RangeIndex: 4226 entries, 0 to 4225\n",
            "Data columns (total 58 columns):\n",
            " #   Column                         Non-Null Count  Dtype  \n",
            "---  ------                         --------------  -----  \n",
            " 0   video_id                       4226 non-null   int64  \n",
            " 1   cvt_per_day                    4226 non-null   float64\n",
            " 2   weighted_categorical_position  4226 non-null   int64  \n",
            " 3   weighted_horizontal_poition    4226 non-null   int64  \n",
            " 4   imdb_votes                     4226 non-null   float64\n",
            " 5   budget                         4226 non-null   float64\n",
            " 6   boxoffice                      4226 non-null   float64\n",
            " 7   imdb_rating                    4226 non-null   float64\n",
            " 8   duration_in_mins               4226 non-null   float64\n",
            " 9   metacritic_score               4226 non-null   float64\n",
            " 10  star_category                  4226 non-null   float64\n",
            " 11  lionsgate                      4226 non-null   int64  \n",
            " 12  mgm                            4226 non-null   int64  \n",
            " 13  other                          4226 non-null   int64  \n",
            " 14  paramount                      4226 non-null   int64  \n",
            " 15  G                              4226 non-null   int64  \n",
            " 16  NC-17                          4226 non-null   int64  \n",
            " 17  NotRated                       4226 non-null   int64  \n",
            " 18  PG                             4226 non-null   int64  \n",
            " 19  PG-13                          4226 non-null   int64  \n",
            " 20  R                              4226 non-null   int64  \n",
            " 21  BAFTA                          4226 non-null   int64  \n",
            " 22  Golden Globe                   4226 non-null   int64  \n",
            " 23  Oscar                          4226 non-null   int64  \n",
            " 24  no award                       4226 non-null   int64  \n",
            " 25  other award                    4226 non-null   int64  \n",
            " 26  Action                         4226 non-null   int64  \n",
            " 27  Adventure                      4226 non-null   int64  \n",
            " 28  Animation                      4226 non-null   int64  \n",
            " 29  Comedy                         4226 non-null   int64  \n",
            " 30  Crime                          4226 non-null   int64  \n",
            " 31  Documentary                    4226 non-null   int64  \n",
            " 32  Drama                          4226 non-null   int64  \n",
            " 33  Fantasy                        4226 non-null   int64  \n",
            " 34  Foreign/International          4226 non-null   int64  \n",
            " 35  Horror                         4226 non-null   int64  \n",
            " 36  Independent                    4226 non-null   int64  \n",
            " 37  Kids & Family                  4226 non-null   int64  \n",
            " 38  Music                          4226 non-null   int64  \n",
            " 39  Musicals                       4226 non-null   int64  \n",
            " 40  Mystery                        4226 non-null   int64  \n",
            " 41  Romance                        4226 non-null   int64  \n",
            " 42  Sci-Fi                         4226 non-null   int64  \n",
            " 43  Sport                          4226 non-null   int64  \n",
            " 44  Thriller                       4226 non-null   int64  \n",
            " 45  War                            4226 non-null   int64  \n",
            " 46  Western                        4226 non-null   int64  \n",
            " 47  Misc_genres                    4226 non-null   int64  \n",
            " 48  1916-1974                      4226 non-null   int64  \n",
            " 49  1974-1991                      4226 non-null   int64  \n",
            " 50  1991-2001                      4226 non-null   int64  \n",
            " 51  2001-2006                      4226 non-null   int64  \n",
            " 52  2006-2008                      4226 non-null   int64  \n",
            " 53  2008-2010                      4226 non-null   int64  \n",
            " 54  2010-2012                      4226 non-null   int64  \n",
            " 55  2012-2013                      4226 non-null   int64  \n",
            " 56  2013-2014                      4226 non-null   int64  \n",
            " 57  2014-2017                      4226 non-null   int64  \n",
            "dtypes: float64(8), int64(50)\n",
            "memory usage: 1.9 MB\n",
            "None\n"
          ]
        }
      ]
    },
    {
      "cell_type": "markdown",
      "metadata": {
        "id": "XqN_tYv537ak"
      },
      "source": [
        "## 3.3 Feature scaling"
      ]
    },
    {
      "cell_type": "markdown",
      "metadata": {
        "id": "Qbgz-PeU3-PK"
      },
      "source": [
        "The impact of different scaling methods on the model performance is small. In the following model training and selections, the standard scaling (sc) data is used."
      ]
    },
    {
      "cell_type": "code",
      "metadata": {
        "id": "ukI1bTdTPuZK",
        "colab": {
          "base_uri": "https://localhost:8080/",
          "height": 287
        },
        "outputId": "66179ff8-033e-40d4-fe33-ec6192b55ff8"
      },
      "source": [
        "# Standardization\n",
        " \n",
        "scale_lst = ['weighted_categorical_position', 'weighted_horizontal_poition', 'budget','boxoffice', \n",
        "             'imdb_votes','imdb_rating','duration_in_mins', 'metacritic_score','star_category']\n",
        "newTV_sc = newTV1.copy() \n",
        "sc_scale = preprocessing.StandardScaler().fit(newTV_sc[scale_lst])\n",
        "newTV_sc[scale_lst] = sc_scale.transform(newTV_sc[scale_lst])\n",
        "newTV_sc.head()\n"
      ],
      "execution_count": null,
      "outputs": [
        {
          "output_type": "execute_result",
          "data": {
            "text/plain": [
              "   video_id  cvt_per_day  weighted_categorical_position  \\\n",
              "0    385504   307127.606                         -1.106   \n",
              "1    300175   270338.426                         -1.106   \n",
              "2    361899   256165.867                         -1.106   \n",
              "3    308314   196622.721                         -0.780   \n",
              "4    307201   159841.652                         -1.106   \n",
              "\n",
              "   weighted_horizontal_poition  imdb_votes  budget  boxoffice  imdb_rating  \\\n",
              "0                       -2.116       1.984   1.470      4.696        0.542   \n",
              "1                       -2.116       1.258   1.470     -1.022        0.542   \n",
              "2                       -2.116       6.043   3.108      3.898        1.100   \n",
              "3                       -2.032      11.077   1.470      0.767        1.309   \n",
              "4                       -2.116       1.258   3.290     -0.265        0.472   \n",
              "\n",
              "   duration_in_mins  metacritic_score  star_category  lionsgate  mgm  other  \\\n",
              "0             1.079            -0.630          0.033          1    0      0   \n",
              "1             0.257            -1.997          3.434          1    0      0   \n",
              "2             1.243             0.327          2.102          0    0      1   \n",
              "3             1.952             5.250         -0.063          1    0      0   \n",
              "4             0.758            -2.544          3.029          1    0      0   \n",
              "\n",
              "   paramount  G  NC-17  NotRated  PG  PG-13  R  BAFTA  Golden Globe  Oscar  \\\n",
              "0          0  0      0         0   0      1  0      0             0      0   \n",
              "1          0  0      0         0   0      0  1      0             0      0   \n",
              "2          0  0      0         0   0      0  1      0             0      0   \n",
              "3          0  0      0         0   0      0  1      0             0      1   \n",
              "4          0  0      0         0   0      0  1      0             0      0   \n",
              "\n",
              "   no award  other award  Action  Adventure  Animation  Comedy  Crime  \\\n",
              "0         0            1       1          0          0       0      0   \n",
              "1         1            0       0          0          0       1      1   \n",
              "2         0            1       0          0          0       0      1   \n",
              "3         0            0       1          0          0       0      0   \n",
              "4         0            1       0          0          0       0      1   \n",
              "\n",
              "   Documentary  Drama  Fantasy  Foreign/International  Horror  Independent  \\\n",
              "0            0      1        0                      0       0            0   \n",
              "1            0      0        0                      0       0            0   \n",
              "2            0      1        0                      0       0            0   \n",
              "3            1      1        0                      0       0            0   \n",
              "4            1      0        0                      0       0            0   \n",
              "\n",
              "   Kids & Family  Music  Musicals  Mystery  Romance  Sci-Fi  Sport  Thriller  \\\n",
              "0              0      0         0        0        0       0      0         1   \n",
              "1              0      0         0        0        0       0      0         1   \n",
              "2              0      0         0        0        0       0      0         0   \n",
              "3              0      0         0        1        0       0      0         1   \n",
              "4              0      0         0        1        0       0      0         1   \n",
              "\n",
              "   War  Western  Misc_genres  1916-1974  1974-1991  1991-2001  2001-2006  \\\n",
              "0    0        0            0          0          0          0          0   \n",
              "1    0        0            0          0          0          0          0   \n",
              "2    0        0            0          0          0          0          0   \n",
              "3    1        0            0          0          0          0          0   \n",
              "4    0        0            0          0          0          0          0   \n",
              "\n",
              "   2006-2008  2008-2010  2010-2012  2012-2013  2013-2014  2014-2017  \n",
              "0          0          0          0          1          0          0  \n",
              "1          0          0          0          1          0          0  \n",
              "2          0          0          1          0          0          0  \n",
              "3          1          0          0          0          0          0  \n",
              "4          0          0          0          1          0          0  "
            ],
            "text/html": [
              "\n",
              "  <div id=\"df-f09d5f4a-c139-43e4-bf30-fdf150d5bfeb\">\n",
              "    <div class=\"colab-df-container\">\n",
              "      <div>\n",
              "<style scoped>\n",
              "    .dataframe tbody tr th:only-of-type {\n",
              "        vertical-align: middle;\n",
              "    }\n",
              "\n",
              "    .dataframe tbody tr th {\n",
              "        vertical-align: top;\n",
              "    }\n",
              "\n",
              "    .dataframe thead th {\n",
              "        text-align: right;\n",
              "    }\n",
              "</style>\n",
              "<table border=\"1\" class=\"dataframe\">\n",
              "  <thead>\n",
              "    <tr style=\"text-align: right;\">\n",
              "      <th></th>\n",
              "      <th>video_id</th>\n",
              "      <th>cvt_per_day</th>\n",
              "      <th>weighted_categorical_position</th>\n",
              "      <th>weighted_horizontal_poition</th>\n",
              "      <th>imdb_votes</th>\n",
              "      <th>budget</th>\n",
              "      <th>boxoffice</th>\n",
              "      <th>imdb_rating</th>\n",
              "      <th>duration_in_mins</th>\n",
              "      <th>metacritic_score</th>\n",
              "      <th>star_category</th>\n",
              "      <th>lionsgate</th>\n",
              "      <th>mgm</th>\n",
              "      <th>other</th>\n",
              "      <th>paramount</th>\n",
              "      <th>G</th>\n",
              "      <th>NC-17</th>\n",
              "      <th>NotRated</th>\n",
              "      <th>PG</th>\n",
              "      <th>PG-13</th>\n",
              "      <th>R</th>\n",
              "      <th>BAFTA</th>\n",
              "      <th>Golden Globe</th>\n",
              "      <th>Oscar</th>\n",
              "      <th>no award</th>\n",
              "      <th>other award</th>\n",
              "      <th>Action</th>\n",
              "      <th>Adventure</th>\n",
              "      <th>Animation</th>\n",
              "      <th>Comedy</th>\n",
              "      <th>Crime</th>\n",
              "      <th>Documentary</th>\n",
              "      <th>Drama</th>\n",
              "      <th>Fantasy</th>\n",
              "      <th>Foreign/International</th>\n",
              "      <th>Horror</th>\n",
              "      <th>Independent</th>\n",
              "      <th>Kids &amp; Family</th>\n",
              "      <th>Music</th>\n",
              "      <th>Musicals</th>\n",
              "      <th>Mystery</th>\n",
              "      <th>Romance</th>\n",
              "      <th>Sci-Fi</th>\n",
              "      <th>Sport</th>\n",
              "      <th>Thriller</th>\n",
              "      <th>War</th>\n",
              "      <th>Western</th>\n",
              "      <th>Misc_genres</th>\n",
              "      <th>1916-1974</th>\n",
              "      <th>1974-1991</th>\n",
              "      <th>1991-2001</th>\n",
              "      <th>2001-2006</th>\n",
              "      <th>2006-2008</th>\n",
              "      <th>2008-2010</th>\n",
              "      <th>2010-2012</th>\n",
              "      <th>2012-2013</th>\n",
              "      <th>2013-2014</th>\n",
              "      <th>2014-2017</th>\n",
              "    </tr>\n",
              "  </thead>\n",
              "  <tbody>\n",
              "    <tr>\n",
              "      <th>0</th>\n",
              "      <td>385504</td>\n",
              "      <td>307127.606</td>\n",
              "      <td>-1.106</td>\n",
              "      <td>-2.116</td>\n",
              "      <td>1.984</td>\n",
              "      <td>1.470</td>\n",
              "      <td>4.696</td>\n",
              "      <td>0.542</td>\n",
              "      <td>1.079</td>\n",
              "      <td>-0.630</td>\n",
              "      <td>0.033</td>\n",
              "      <td>1</td>\n",
              "      <td>0</td>\n",
              "      <td>0</td>\n",
              "      <td>0</td>\n",
              "      <td>0</td>\n",
              "      <td>0</td>\n",
              "      <td>0</td>\n",
              "      <td>0</td>\n",
              "      <td>1</td>\n",
              "      <td>0</td>\n",
              "      <td>0</td>\n",
              "      <td>0</td>\n",
              "      <td>0</td>\n",
              "      <td>0</td>\n",
              "      <td>1</td>\n",
              "      <td>1</td>\n",
              "      <td>0</td>\n",
              "      <td>0</td>\n",
              "      <td>0</td>\n",
              "      <td>0</td>\n",
              "      <td>0</td>\n",
              "      <td>1</td>\n",
              "      <td>0</td>\n",
              "      <td>0</td>\n",
              "      <td>0</td>\n",
              "      <td>0</td>\n",
              "      <td>0</td>\n",
              "      <td>0</td>\n",
              "      <td>0</td>\n",
              "      <td>0</td>\n",
              "      <td>0</td>\n",
              "      <td>0</td>\n",
              "      <td>0</td>\n",
              "      <td>1</td>\n",
              "      <td>0</td>\n",
              "      <td>0</td>\n",
              "      <td>0</td>\n",
              "      <td>0</td>\n",
              "      <td>0</td>\n",
              "      <td>0</td>\n",
              "      <td>0</td>\n",
              "      <td>0</td>\n",
              "      <td>0</td>\n",
              "      <td>0</td>\n",
              "      <td>1</td>\n",
              "      <td>0</td>\n",
              "      <td>0</td>\n",
              "    </tr>\n",
              "    <tr>\n",
              "      <th>1</th>\n",
              "      <td>300175</td>\n",
              "      <td>270338.426</td>\n",
              "      <td>-1.106</td>\n",
              "      <td>-2.116</td>\n",
              "      <td>1.258</td>\n",
              "      <td>1.470</td>\n",
              "      <td>-1.022</td>\n",
              "      <td>0.542</td>\n",
              "      <td>0.257</td>\n",
              "      <td>-1.997</td>\n",
              "      <td>3.434</td>\n",
              "      <td>1</td>\n",
              "      <td>0</td>\n",
              "      <td>0</td>\n",
              "      <td>0</td>\n",
              "      <td>0</td>\n",
              "      <td>0</td>\n",
              "      <td>0</td>\n",
              "      <td>0</td>\n",
              "      <td>0</td>\n",
              "      <td>1</td>\n",
              "      <td>0</td>\n",
              "      <td>0</td>\n",
              "      <td>0</td>\n",
              "      <td>1</td>\n",
              "      <td>0</td>\n",
              "      <td>0</td>\n",
              "      <td>0</td>\n",
              "      <td>0</td>\n",
              "      <td>1</td>\n",
              "      <td>1</td>\n",
              "      <td>0</td>\n",
              "      <td>0</td>\n",
              "      <td>0</td>\n",
              "      <td>0</td>\n",
              "      <td>0</td>\n",
              "      <td>0</td>\n",
              "      <td>0</td>\n",
              "      <td>0</td>\n",
              "      <td>0</td>\n",
              "      <td>0</td>\n",
              "      <td>0</td>\n",
              "      <td>0</td>\n",
              "      <td>0</td>\n",
              "      <td>1</td>\n",
              "      <td>0</td>\n",
              "      <td>0</td>\n",
              "      <td>0</td>\n",
              "      <td>0</td>\n",
              "      <td>0</td>\n",
              "      <td>0</td>\n",
              "      <td>0</td>\n",
              "      <td>0</td>\n",
              "      <td>0</td>\n",
              "      <td>0</td>\n",
              "      <td>1</td>\n",
              "      <td>0</td>\n",
              "      <td>0</td>\n",
              "    </tr>\n",
              "    <tr>\n",
              "      <th>2</th>\n",
              "      <td>361899</td>\n",
              "      <td>256165.867</td>\n",
              "      <td>-1.106</td>\n",
              "      <td>-2.116</td>\n",
              "      <td>6.043</td>\n",
              "      <td>3.108</td>\n",
              "      <td>3.898</td>\n",
              "      <td>1.100</td>\n",
              "      <td>1.243</td>\n",
              "      <td>0.327</td>\n",
              "      <td>2.102</td>\n",
              "      <td>0</td>\n",
              "      <td>0</td>\n",
              "      <td>1</td>\n",
              "      <td>0</td>\n",
              "      <td>0</td>\n",
              "      <td>0</td>\n",
              "      <td>0</td>\n",
              "      <td>0</td>\n",
              "      <td>0</td>\n",
              "      <td>1</td>\n",
              "      <td>0</td>\n",
              "      <td>0</td>\n",
              "      <td>0</td>\n",
              "      <td>0</td>\n",
              "      <td>1</td>\n",
              "      <td>0</td>\n",
              "      <td>0</td>\n",
              "      <td>0</td>\n",
              "      <td>0</td>\n",
              "      <td>1</td>\n",
              "      <td>0</td>\n",
              "      <td>1</td>\n",
              "      <td>0</td>\n",
              "      <td>0</td>\n",
              "      <td>0</td>\n",
              "      <td>0</td>\n",
              "      <td>0</td>\n",
              "      <td>0</td>\n",
              "      <td>0</td>\n",
              "      <td>0</td>\n",
              "      <td>0</td>\n",
              "      <td>0</td>\n",
              "      <td>0</td>\n",
              "      <td>0</td>\n",
              "      <td>0</td>\n",
              "      <td>0</td>\n",
              "      <td>0</td>\n",
              "      <td>0</td>\n",
              "      <td>0</td>\n",
              "      <td>0</td>\n",
              "      <td>0</td>\n",
              "      <td>0</td>\n",
              "      <td>0</td>\n",
              "      <td>1</td>\n",
              "      <td>0</td>\n",
              "      <td>0</td>\n",
              "      <td>0</td>\n",
              "    </tr>\n",
              "    <tr>\n",
              "      <th>3</th>\n",
              "      <td>308314</td>\n",
              "      <td>196622.721</td>\n",
              "      <td>-0.780</td>\n",
              "      <td>-2.032</td>\n",
              "      <td>11.077</td>\n",
              "      <td>1.470</td>\n",
              "      <td>0.767</td>\n",
              "      <td>1.309</td>\n",
              "      <td>1.952</td>\n",
              "      <td>5.250</td>\n",
              "      <td>-0.063</td>\n",
              "      <td>1</td>\n",
              "      <td>0</td>\n",
              "      <td>0</td>\n",
              "      <td>0</td>\n",
              "      <td>0</td>\n",
              "      <td>0</td>\n",
              "      <td>0</td>\n",
              "      <td>0</td>\n",
              "      <td>0</td>\n",
              "      <td>1</td>\n",
              "      <td>0</td>\n",
              "      <td>0</td>\n",
              "      <td>1</td>\n",
              "      <td>0</td>\n",
              "      <td>0</td>\n",
              "      <td>1</td>\n",
              "      <td>0</td>\n",
              "      <td>0</td>\n",
              "      <td>0</td>\n",
              "      <td>0</td>\n",
              "      <td>1</td>\n",
              "      <td>1</td>\n",
              "      <td>0</td>\n",
              "      <td>0</td>\n",
              "      <td>0</td>\n",
              "      <td>0</td>\n",
              "      <td>0</td>\n",
              "      <td>0</td>\n",
              "      <td>0</td>\n",
              "      <td>1</td>\n",
              "      <td>0</td>\n",
              "      <td>0</td>\n",
              "      <td>0</td>\n",
              "      <td>1</td>\n",
              "      <td>1</td>\n",
              "      <td>0</td>\n",
              "      <td>0</td>\n",
              "      <td>0</td>\n",
              "      <td>0</td>\n",
              "      <td>0</td>\n",
              "      <td>0</td>\n",
              "      <td>1</td>\n",
              "      <td>0</td>\n",
              "      <td>0</td>\n",
              "      <td>0</td>\n",
              "      <td>0</td>\n",
              "      <td>0</td>\n",
              "    </tr>\n",
              "    <tr>\n",
              "      <th>4</th>\n",
              "      <td>307201</td>\n",
              "      <td>159841.652</td>\n",
              "      <td>-1.106</td>\n",
              "      <td>-2.116</td>\n",
              "      <td>1.258</td>\n",
              "      <td>3.290</td>\n",
              "      <td>-0.265</td>\n",
              "      <td>0.472</td>\n",
              "      <td>0.758</td>\n",
              "      <td>-2.544</td>\n",
              "      <td>3.029</td>\n",
              "      <td>1</td>\n",
              "      <td>0</td>\n",
              "      <td>0</td>\n",
              "      <td>0</td>\n",
              "      <td>0</td>\n",
              "      <td>0</td>\n",
              "      <td>0</td>\n",
              "      <td>0</td>\n",
              "      <td>0</td>\n",
              "      <td>1</td>\n",
              "      <td>0</td>\n",
              "      <td>0</td>\n",
              "      <td>0</td>\n",
              "      <td>0</td>\n",
              "      <td>1</td>\n",
              "      <td>0</td>\n",
              "      <td>0</td>\n",
              "      <td>0</td>\n",
              "      <td>0</td>\n",
              "      <td>1</td>\n",
              "      <td>1</td>\n",
              "      <td>0</td>\n",
              "      <td>0</td>\n",
              "      <td>0</td>\n",
              "      <td>0</td>\n",
              "      <td>0</td>\n",
              "      <td>0</td>\n",
              "      <td>0</td>\n",
              "      <td>0</td>\n",
              "      <td>1</td>\n",
              "      <td>0</td>\n",
              "      <td>0</td>\n",
              "      <td>0</td>\n",
              "      <td>1</td>\n",
              "      <td>0</td>\n",
              "      <td>0</td>\n",
              "      <td>0</td>\n",
              "      <td>0</td>\n",
              "      <td>0</td>\n",
              "      <td>0</td>\n",
              "      <td>0</td>\n",
              "      <td>0</td>\n",
              "      <td>0</td>\n",
              "      <td>0</td>\n",
              "      <td>1</td>\n",
              "      <td>0</td>\n",
              "      <td>0</td>\n",
              "    </tr>\n",
              "  </tbody>\n",
              "</table>\n",
              "</div>\n",
              "      <button class=\"colab-df-convert\" onclick=\"convertToInteractive('df-f09d5f4a-c139-43e4-bf30-fdf150d5bfeb')\"\n",
              "              title=\"Convert this dataframe to an interactive table.\"\n",
              "              style=\"display:none;\">\n",
              "        \n",
              "  <svg xmlns=\"http://www.w3.org/2000/svg\" height=\"24px\"viewBox=\"0 0 24 24\"\n",
              "       width=\"24px\">\n",
              "    <path d=\"M0 0h24v24H0V0z\" fill=\"none\"/>\n",
              "    <path d=\"M18.56 5.44l.94 2.06.94-2.06 2.06-.94-2.06-.94-.94-2.06-.94 2.06-2.06.94zm-11 1L8.5 8.5l.94-2.06 2.06-.94-2.06-.94L8.5 2.5l-.94 2.06-2.06.94zm10 10l.94 2.06.94-2.06 2.06-.94-2.06-.94-.94-2.06-.94 2.06-2.06.94z\"/><path d=\"M17.41 7.96l-1.37-1.37c-.4-.4-.92-.59-1.43-.59-.52 0-1.04.2-1.43.59L10.3 9.45l-7.72 7.72c-.78.78-.78 2.05 0 2.83L4 21.41c.39.39.9.59 1.41.59.51 0 1.02-.2 1.41-.59l7.78-7.78 2.81-2.81c.8-.78.8-2.07 0-2.86zM5.41 20L4 18.59l7.72-7.72 1.47 1.35L5.41 20z\"/>\n",
              "  </svg>\n",
              "      </button>\n",
              "      \n",
              "  <style>\n",
              "    .colab-df-container {\n",
              "      display:flex;\n",
              "      flex-wrap:wrap;\n",
              "      gap: 12px;\n",
              "    }\n",
              "\n",
              "    .colab-df-convert {\n",
              "      background-color: #E8F0FE;\n",
              "      border: none;\n",
              "      border-radius: 50%;\n",
              "      cursor: pointer;\n",
              "      display: none;\n",
              "      fill: #1967D2;\n",
              "      height: 32px;\n",
              "      padding: 0 0 0 0;\n",
              "      width: 32px;\n",
              "    }\n",
              "\n",
              "    .colab-df-convert:hover {\n",
              "      background-color: #E2EBFA;\n",
              "      box-shadow: 0px 1px 2px rgba(60, 64, 67, 0.3), 0px 1px 3px 1px rgba(60, 64, 67, 0.15);\n",
              "      fill: #174EA6;\n",
              "    }\n",
              "\n",
              "    [theme=dark] .colab-df-convert {\n",
              "      background-color: #3B4455;\n",
              "      fill: #D2E3FC;\n",
              "    }\n",
              "\n",
              "    [theme=dark] .colab-df-convert:hover {\n",
              "      background-color: #434B5C;\n",
              "      box-shadow: 0px 1px 3px 1px rgba(0, 0, 0, 0.15);\n",
              "      filter: drop-shadow(0px 1px 2px rgba(0, 0, 0, 0.3));\n",
              "      fill: #FFFFFF;\n",
              "    }\n",
              "  </style>\n",
              "\n",
              "      <script>\n",
              "        const buttonEl =\n",
              "          document.querySelector('#df-f09d5f4a-c139-43e4-bf30-fdf150d5bfeb button.colab-df-convert');\n",
              "        buttonEl.style.display =\n",
              "          google.colab.kernel.accessAllowed ? 'block' : 'none';\n",
              "\n",
              "        async function convertToInteractive(key) {\n",
              "          const element = document.querySelector('#df-f09d5f4a-c139-43e4-bf30-fdf150d5bfeb');\n",
              "          const dataTable =\n",
              "            await google.colab.kernel.invokeFunction('convertToInteractive',\n",
              "                                                     [key], {});\n",
              "          if (!dataTable) return;\n",
              "\n",
              "          const docLinkHtml = 'Like what you see? Visit the ' +\n",
              "            '<a target=\"_blank\" href=https://colab.research.google.com/notebooks/data_table.ipynb>data table notebook</a>'\n",
              "            + ' to learn more about interactive tables.';\n",
              "          element.innerHTML = '';\n",
              "          dataTable['output_type'] = 'display_data';\n",
              "          await google.colab.output.renderOutput(dataTable, element);\n",
              "          const docLink = document.createElement('div');\n",
              "          docLink.innerHTML = docLinkHtml;\n",
              "          element.appendChild(docLink);\n",
              "        }\n",
              "      </script>\n",
              "    </div>\n",
              "  </div>\n",
              "  "
            ]
          },
          "metadata": {},
          "execution_count": 56
        }
      ]
    },
    {
      "cell_type": "markdown",
      "metadata": {
        "id": "TpuYM0uv4OnC"
      },
      "source": [
        "# Part 4: Model Training"
      ]
    },
    {
      "cell_type": "code",
      "metadata": {
        "id": "Z0wDBXROSAe-"
      },
      "source": [
        "train, test = train_test_split(newTV_sc, test_size=0.15, random_state = 3)\n",
        "model_train_x = train.drop(['video_id', 'cvt_per_day'], axis = 1)\n",
        "model_test_x = test.drop(['video_id', 'cvt_per_day'], axis = 1)\n",
        "model_train_y = train['cvt_per_day']\n",
        "model_test_y = test['cvt_per_day']"
      ],
      "execution_count": null,
      "outputs": []
    },
    {
      "cell_type": "markdown",
      "metadata": {
        "id": "a715kJX94Ukb"
      },
      "source": [
        "### 4.1 Lasso linear regression"
      ]
    },
    {
      "cell_type": "code",
      "metadata": {
        "id": "jXNJRu0eYgiv",
        "colab": {
          "base_uri": "https://localhost:8080/",
          "height": 330
        },
        "outputId": "076dc455-77a1-42a6-ad56-2d3004a24902"
      },
      "source": [
        "from sklearn.model_selection import train_test_split\n",
        "from sklearn.linear_model import LinearRegression, Lasso, Ridge\n",
        "from sklearn.metrics import mean_squared_error, r2_score #not used\n",
        "from math import sqrt\n",
        "\n",
        "lr_train, lr_validate = train_test_split(train, test_size=0.15, random_state = 0)\n",
        "\n",
        "lr_train_x = lr_train.drop(['video_id', 'cvt_per_day'], axis = 1)\n",
        "lr_validate_x = lr_validate.drop(['video_id', 'cvt_per_day'], axis = 1)\n",
        "lr_train_y = lr_train['cvt_per_day']\n",
        "lr_validate_y = lr_validate['cvt_per_day']\n",
        "\n",
        "alphas = np.linspace (1, 201, num=500)\n",
        "scores = np.empty_like(alphas)\n",
        "opt_a = float('-inf')\n",
        "max_score = float('-inf')\n",
        "for i, a in enumerate(alphas):\n",
        "    lasso = Lasso()\n",
        "    lasso.set_params(alpha = a)\n",
        "    lasso.fit(lr_train_x, lr_train_y)\n",
        "    scores[i] = lasso.score(lr_validate_x, lr_validate_y)\n",
        "    if scores[i] > max_score:\n",
        "        max_score = scores[i]\n",
        "        opt_a = a\n",
        "        lasso_save = lasso #optional code\n",
        "plt.plot(alphas, scores, color='b', linestyle='dashed', marker='o',markerfacecolor='blue', markersize=6)\n",
        "plt.xlabel('alpha')\n",
        "plt.ylabel('score')\n",
        "plt.grid(True)\n",
        "plt.title('score vs. alpha')\n",
        "plt.show()\n",
        "model1_para = opt_a\n",
        "print ('The optimaized alpha and score of Lasso linear is: '), opt_a, max_score\n"
      ],
      "execution_count": null,
      "outputs": [
        {
          "output_type": "display_data",
          "data": {
            "text/plain": [
              "<Figure size 432x288 with 1 Axes>"
            ],
            "image/png": "[encoded data removed]"
          },
          "metadata": {
            "needs_background": "light"
          }
        },
        {
          "output_type": "stream",
          "name": "stdout",
          "text": [
            "The optimaized alpha and score of Lasso linear is: \n"
          ]
        },
        {
          "output_type": "execute_result",
          "data": {
            "text/plain": [
              "(None, 125.64929859719439, 0.3646194368519905)"
            ]
          },
          "metadata": {},
          "execution_count": 58
        }
      ]
    },
    {
      "cell_type": "code",
      "metadata": {
        "id": "w6o_T8LK6tp3",
        "colab": {
          "base_uri": "https://localhost:8080/"
        },
        "outputId": "6cddc8b7-7c97-4886-9fbb-fa82231dd907"
      },
      "source": [
        "# combine the validate data and training data, use the optimal alpha, re-train the model\n",
        "lasso_f = Lasso()\n",
        "lasso_f.set_params(alpha = opt_a)\n",
        "lasso_f.fit(model_train_x, model_train_y)\n"
      ],
      "execution_count": null,
      "outputs": [
        {
          "output_type": "execute_result",
          "data": {
            "text/plain": [
              "Lasso(alpha=125.64929859719439)"
            ]
          },
          "metadata": {},
          "execution_count": 59
        }
      ]
    },
    {
      "cell_type": "markdown",
      "metadata": {
        "id": "xwTJbv2oBvdm"
      },
      "source": [
        "## 4.2 Ridge linear regression"
      ]
    },
    {
      "cell_type": "code",
      "metadata": {
        "id": "SbLyWw9U0ZO0",
        "colab": {
          "base_uri": "https://localhost:8080/",
          "height": 330
        },
        "outputId": "0ace769d-0805-4fb9-e705-3715717e342b"
      },
      "source": [
        "# Use the same training data set as Lasso (linear features)\n",
        "lr_train, lr_validate = train_test_split(train, test_size=0.15, random_state = 0)\n",
        "\n",
        "alphas = np.linspace (1, 201, num=500)\n",
        "scores = np.empty_like(alphas)\n",
        "opt_a = float('-inf')\n",
        "max_score = float('-inf')\n",
        "for i, a in enumerate(alphas):\n",
        "    ridge = Ridge()\n",
        "    ridge.set_params(alpha = a)\n",
        "    ridge.fit(lr_train_x, lr_train_y)\n",
        "    scores[i] = ridge.score(lr_validate_x, lr_validate_y)\n",
        "    if scores[i] > max_score:\n",
        "        max_score = scores[i]\n",
        "        opt_a = a\n",
        "        ridge_save = ridge #optional code\n",
        "plt.plot(alphas, scores, color='r', linestyle='dashed', marker='o',markerfacecolor='r', markersize=6)\n",
        "plt.xlabel('alpha')\n",
        "plt.ylabel('score')\n",
        "plt.grid(True)\n",
        "plt.title('score vs. alpha')\n",
        "plt.show()\n",
        "model3_para = opt_a\n",
        "print ('The optimaized alpha and score of Ridge linear is: '), opt_a, max_score"
      ],
      "execution_count": null,
      "outputs": [
        {
          "output_type": "display_data",
          "data": {
            "text/plain": [
              "<Figure size 432x288 with 1 Axes>"
            ],
            "image/png": "[encoded data removed]"
          },
          "metadata": {
            "needs_background": "light"
          }
        },
        {
          "output_type": "stream",
          "name": "stdout",
          "text": [
            "The optimaized alpha and score of Ridge linear is: \n"
          ]
        },
        {
          "output_type": "execute_result",
          "data": {
            "text/plain": [
              "(None, 172.5430861723447, 0.3529726994066543)"
            ]
          },
          "metadata": {},
          "execution_count": 60
        }
      ]
    },
    {
      "cell_type": "code",
      "metadata": {
        "id": "XxEqMw4iE9XZ",
        "colab": {
          "base_uri": "https://localhost:8080/"
        },
        "outputId": "ae8db2b7-a6dd-47a9-b520-48775cfc28a8"
      },
      "source": [
        "# add the 15% validate data, use the optimal alpha, re-train the model\n",
        "\n",
        "ridge_f = Ridge()\n",
        "ridge_f.set_params(alpha = opt_a)\n",
        "ridge_f.fit(model_train_x, model_train_y)\n",
        "\n",
        "# ridge_f is the Ridge model (linear feature), to be tested with test data."
      ],
      "execution_count": null,
      "outputs": [
        {
          "output_type": "execute_result",
          "data": {
            "text/plain": [
              "Ridge(alpha=172.5430861723447)"
            ]
          },
          "metadata": {},
          "execution_count": 61
        }
      ]
    },
    {
      "cell_type": "markdown",
      "metadata": {
        "id": "T8k96l4UFhoy"
      },
      "source": [
        "##4.3 Random Forest"
      ]
    },
    {
      "cell_type": "code",
      "metadata": {
        "id": "jpHVKREP5FmB",
        "colab": {
          "base_uri": "https://localhost:8080/"
        },
        "outputId": "40026e61-87e5-47e2-f101-1ece2cfc7dcc"
      },
      "source": [
        "from sklearn.ensemble import RandomForestRegressor\n",
        "from sklearn.model_selection import GridSearchCV\n",
        "\n",
        "rf=RandomForestRegressor(random_state=2,max_features='sqrt')\n",
        "param_grid={'n_estimators':[55,56,57,58,59,60,61,62,63,64,65],'max_depth':[15,16,17,18,19,20,21]}\n",
        "clf=GridSearchCV(estimator=rf,param_grid=param_grid,cv=5)\n",
        "clf.fit(model_train_x,model_train_y)"
      ],
      "execution_count": null,
      "outputs": [
        {
          "output_type": "execute_result",
          "data": {
            "text/plain": [
              "GridSearchCV(cv=5,\n",
              "             estimator=RandomForestRegressor(max_features='sqrt',\n",
              "                                             random_state=2),\n",
              "             param_grid={'max_depth': [15, 16, 17, 18, 19, 20, 21],\n",
              "                         'n_estimators': [55, 56, 57, 58, 59, 60, 61, 62, 63,\n",
              "                                          64, 65]})"
            ]
          },
          "metadata": {},
          "execution_count": 62
        }
      ]
    },
    {
      "cell_type": "code",
      "metadata": {
        "id": "e6aNH8hemOZR",
        "colab": {
          "base_uri": "https://localhost:8080/",
          "height": 1000
        },
        "outputId": "660b1f43-4a43-40af-f487-a7d02ae39fef"
      },
      "source": [
        "result=clf.cv_results_\n",
        "print(result)\n",
        "max_depth=[15,16,17,18,19,20,21]   \n",
        "n_estimators=[60,61,62,63,64,65,66,67,68,69,70]   \n",
        "scores=clf.cv_results_['mean_test_score'].reshape(len(max_depth),len(n_estimators))\n",
        "plt.figure(1)\n",
        "plt.subplot(1,1,1)\n",
        "for i,j in enumerate(max_depth):\n",
        "  plt.plot(n_estimators,scores[i],'-o',label='max_depths is: '+str(j))\n",
        "plt.legend(bbox_to_anchor=(1.05, 1), loc='upper left', borderaxespad=0.)\n",
        "plt.xlabel('n_estimators')\n",
        "plt.ylabel('mean_test_score')\n",
        "plt.show()\n",
        "print('the best parameter for max_depth is: '+str(clf.best_params_['max_depth']))\n",
        "print('the best parameter for n_estimators is: '+str(clf.best_params_['n_estimators']))\n",
        "\n"
      ],
      "execution_count": null,
      "outputs": [
        {
          "output_type": "stream",
          "name": "stdout",
          "text": [
            "{'mean_fit_time': array([0.30167832, 0.62453828, 0.61054831, 0.37640924, 0.26669641,\n",
            "       0.27802601, 0.27496281, 0.28138204, 0.28211651, 0.28843026,\n",
            "       0.2922102 , 0.2558187 , 0.26266632, 0.27306895, 0.2777699 ,\n",
            "       0.28121033, 0.28931613, 0.29304266, 0.29420271, 0.29914498,\n",
            "       0.30637875, 0.30951638, 0.27605381, 0.27932801, 0.28424096,\n",
            "       0.28602829, 0.29518204, 0.29745078, 0.30042644, 0.30525174,\n",
            "       0.30820274, 0.31390309, 0.319034  , 0.28096809, 0.28109612,\n",
            "       0.29235921, 0.29824429, 0.30507746, 0.31241961, 0.30837536,\n",
            "       0.31880932, 0.32351174, 0.32605238, 0.32775154, 0.28843207,\n",
            "       0.29436526, 0.29861083, 0.30649781, 0.31178637, 0.31716604,\n",
            "       0.3191741 , 0.33196259, 0.33340225, 0.33329396, 0.34036388,\n",
            "       0.29499407, 0.30013804, 0.30264482, 0.30826836, 0.31609654,\n",
            "       0.32218423, 0.3228724 , 0.3319973 , 0.33788986, 0.47887664,\n",
            "       0.34244976, 0.3006424 , 0.30969419, 0.31146002, 0.32129459,\n",
            "       0.32343359, 0.33586235, 0.33336825, 0.34247303, 0.34727955,\n",
            "       0.35527458, 0.3592864 ]), 'std_fit_time': array([0.07850032, 0.16465132, 0.10138387, 0.19525828, 0.00637678,\n",
            "       0.00744211, 0.00308658, 0.00367729, 0.00427639, 0.00465379,\n",
            "       0.00325524, 0.00453179, 0.00617718, 0.00258067, 0.00232914,\n",
            "       0.0053498 , 0.00559055, 0.00544508, 0.00448707, 0.00324541,\n",
            "       0.00354766, 0.00575456, 0.00477248, 0.00689117, 0.00773276,\n",
            "       0.00755308, 0.00880508, 0.00300197, 0.00660058, 0.0081667 ,\n",
            "       0.00299793, 0.00750641, 0.00571804, 0.00527667, 0.00243999,\n",
            "       0.00676491, 0.00413638, 0.00524176, 0.00879032, 0.00311242,\n",
            "       0.00828198, 0.00191354, 0.00399306, 0.00433142, 0.00481217,\n",
            "       0.00524697, 0.00194667, 0.00573505, 0.00507472, 0.00328993,\n",
            "       0.00152203, 0.0087243 , 0.005256  , 0.00805377, 0.00840661,\n",
            "       0.00758433, 0.00234234, 0.00721947, 0.00607876, 0.00520575,\n",
            "       0.00410587, 0.00584582, 0.00590745, 0.00494144, 0.27826737,\n",
            "       0.00411547, 0.00367996, 0.00577815, 0.00413199, 0.00466495,\n",
            "       0.00538237, 0.00756053, 0.00369186, 0.00499687, 0.00192843,\n",
            "       0.00508142, 0.00828325]), 'mean_score_time': array([0.02064533, 0.03788481, 0.04346681, 0.01793947, 0.01603532,\n",
            "       0.01672511, 0.01695018, 0.01664662, 0.01700821, 0.01799202,\n",
            "       0.01785583, 0.01610637, 0.01687713, 0.01756158, 0.01748738,\n",
            "       0.01733241, 0.0172698 , 0.01742306, 0.01797204, 0.01790957,\n",
            "       0.01824269, 0.01975331, 0.0171639 , 0.01713791, 0.01677408,\n",
            "       0.01704698, 0.01874967, 0.01825891, 0.0179512 , 0.01810908,\n",
            "       0.01834898, 0.02058229, 0.01934705, 0.01687274, 0.01759696,\n",
            "       0.01785364, 0.01878295, 0.01989722, 0.01859999, 0.01851015,\n",
            "       0.01897941, 0.01926951, 0.02072654, 0.0202282 , 0.01747479,\n",
            "       0.01813474, 0.01806316, 0.01808944, 0.01912146, 0.02037101,\n",
            "       0.02054172, 0.01935191, 0.0200202 , 0.01980715, 0.01991205,\n",
            "       0.01806254, 0.01819177, 0.02099762, 0.0192224 , 0.01953907,\n",
            "       0.01976719, 0.01989188, 0.02008924, 0.02093525, 0.02068782,\n",
            "       0.02118788, 0.01819186, 0.02059646, 0.01883149, 0.01928377,\n",
            "       0.01944027, 0.02104816, 0.02043977, 0.02230482, 0.02167296,\n",
            "       0.02223711, 0.02108622]), 'std_score_time': array([0.00729295, 0.0203722 , 0.02128628, 0.0041912 , 0.00055218,\n",
            "       0.00107055, 0.00053446, 0.00044868, 0.00022474, 0.00054654,\n",
            "       0.00042315, 0.00043599, 0.00202384, 0.00128271, 0.00163635,\n",
            "       0.00105459, 0.00011819, 0.00045724, 0.00060638, 0.0005883 ,\n",
            "       0.00033908, 0.00197931, 0.00208338, 0.00117843, 0.00030257,\n",
            "       0.00021532, 0.00286661, 0.00088646, 0.00035628, 0.00017331,\n",
            "       0.00017852, 0.0030003 , 0.00123561, 0.00056042, 0.00067631,\n",
            "       0.00080279, 0.00181023, 0.00189435, 0.00055747, 0.00028672,\n",
            "       0.000279  , 0.0006394 , 0.00078751, 0.00187535, 0.00046141,\n",
            "       0.00123092, 0.00035943, 0.00025736, 0.00036198, 0.00207013,\n",
            "       0.00260909, 0.0004224 , 0.00036771, 0.00032948, 0.00022684,\n",
            "       0.00028878, 0.00024711, 0.00433535, 0.00089801, 0.00067242,\n",
            "       0.00068896, 0.00066289, 0.00114383, 0.00170498, 0.00044791,\n",
            "       0.00082028, 0.00016846, 0.00163768, 0.00029333, 0.00046235,\n",
            "       0.00028826, 0.00205458, 0.00036465, 0.00247027, 0.00121473,\n",
            "       0.00191646, 0.00026935]), 'param_max_depth': masked_array(data=[15, 15, 15, 15, 15, 15, 15, 15, 15, 15, 15, 16, 16, 16,\n",
            "                   16, 16, 16, 16, 16, 16, 16, 16, 17, 17, 17, 17, 17, 17,\n",
            "                   17, 17, 17, 17, 17, 18, 18, 18, 18, 18, 18, 18, 18, 18,\n",
            "                   18, 18, 19, 19, 19, 19, 19, 19, 19, 19, 19, 19, 19, 20,\n",
            "                   20, 20, 20, 20, 20, 20, 20, 20, 20, 20, 21, 21, 21, 21,\n",
            "                   21, 21, 21, 21, 21, 21, 21],\n",
            "             mask=[False, False, False, False, False, False, False, False,\n",
            "                   False, False, False, False, False, False, False, False,\n",
            "                   False, False, False, False, False, False, False, False,\n",
            "                   False, False, False, False, False, False, False, False,\n",
            "                   False, False, False, False, False, False, False, False,\n",
            "                   False, False, False, False, False, False, False, False,\n",
            "                   False, False, False, False, False, False, False, False,\n",
            "                   False, False, False, False, False, False, False, False,\n",
            "                   False, False, False, False, False, False, False, False,\n",
            "                   False, False, False, False, False],\n",
            "       fill_value='?',\n",
            "            dtype=object), 'param_n_estimators': masked_array(data=[55, 56, 57, 58, 59, 60, 61, 62, 63, 64, 65, 55, 56, 57,\n",
            "                   58, 59, 60, 61, 62, 63, 64, 65, 55, 56, 57, 58, 59, 60,\n",
            "                   61, 62, 63, 64, 65, 55, 56, 57, 58, 59, 60, 61, 62, 63,\n",
            "                   64, 65, 55, 56, 57, 58, 59, 60, 61, 62, 63, 64, 65, 55,\n",
            "                   56, 57, 58, 59, 60, 61, 62, 63, 64, 65, 55, 56, 57, 58,\n",
            "                   59, 60, 61, 62, 63, 64, 65],\n",
            "             mask=[False, False, False, False, False, False, False, False,\n",
            "                   False, False, False, False, False, False, False, False,\n",
            "                   False, False, False, False, False, False, False, False,\n",
            "                   False, False, False, False, False, False, False, False,\n",
            "                   False, False, False, False, False, False, False, False,\n",
            "                   False, False, False, False, False, False, False, False,\n",
            "                   False, False, False, False, False, False, False, False,\n",
            "                   False, False, False, False, False, False, False, False,\n",
            "                   False, False, False, False, False, False, False, False,\n",
            "                   False, False, False, False, False],\n",
            "       fill_value='?',\n",
            "            dtype=object), 'params': [{'max_depth': 15, 'n_estimators': 55}, {'max_depth': 15, 'n_estimators': 56}, {'max_depth': 15, 'n_estimators': 57}, {'max_depth': 15, 'n_estimators': 58}, {'max_depth': 15, 'n_estimators': 59}, {'max_depth': 15, 'n_estimators': 60}, {'max_depth': 15, 'n_estimators': 61}, {'max_depth': 15, 'n_estimators': 62}, {'max_depth': 15, 'n_estimators': 63}, {'max_depth': 15, 'n_estimators': 64}, {'max_depth': 15, 'n_estimators': 65}, {'max_depth': 16, 'n_estimators': 55}, {'max_depth': 16, 'n_estimators': 56}, {'max_depth': 16, 'n_estimators': 57}, {'max_depth': 16, 'n_estimators': 58}, {'max_depth': 16, 'n_estimators': 59}, {'max_depth': 16, 'n_estimators': 60}, {'max_depth': 16, 'n_estimators': 61}, {'max_depth': 16, 'n_estimators': 62}, {'max_depth': 16, 'n_estimators': 63}, {'max_depth': 16, 'n_estimators': 64}, {'max_depth': 16, 'n_estimators': 65}, {'max_depth': 17, 'n_estimators': 55}, {'max_depth': 17, 'n_estimators': 56}, {'max_depth': 17, 'n_estimators': 57}, {'max_depth': 17, 'n_estimators': 58}, {'max_depth': 17, 'n_estimators': 59}, {'max_depth': 17, 'n_estimators': 60}, {'max_depth': 17, 'n_estimators': 61}, {'max_depth': 17, 'n_estimators': 62}, {'max_depth': 17, 'n_estimators': 63}, {'max_depth': 17, 'n_estimators': 64}, {'max_depth': 17, 'n_estimators': 65}, {'max_depth': 18, 'n_estimators': 55}, {'max_depth': 18, 'n_estimators': 56}, {'max_depth': 18, 'n_estimators': 57}, {'max_depth': 18, 'n_estimators': 58}, {'max_depth': 18, 'n_estimators': 59}, {'max_depth': 18, 'n_estimators': 60}, {'max_depth': 18, 'n_estimators': 61}, {'max_depth': 18, 'n_estimators': 62}, {'max_depth': 18, 'n_estimators': 63}, {'max_depth': 18, 'n_estimators': 64}, {'max_depth': 18, 'n_estimators': 65}, {'max_depth': 19, 'n_estimators': 55}, {'max_depth': 19, 'n_estimators': 56}, {'max_depth': 19, 'n_estimators': 57}, {'max_depth': 19, 'n_estimators': 58}, {'max_depth': 19, 'n_estimators': 59}, {'max_depth': 19, 'n_estimators': 60}, {'max_depth': 19, 'n_estimators': 61}, {'max_depth': 19, 'n_estimators': 62}, {'max_depth': 19, 'n_estimators': 63}, {'max_depth': 19, 'n_estimators': 64}, {'max_depth': 19, 'n_estimators': 65}, {'max_depth': 20, 'n_estimators': 55}, {'max_depth': 20, 'n_estimators': 56}, {'max_depth': 20, 'n_estimators': 57}, {'max_depth': 20, 'n_estimators': 58}, {'max_depth': 20, 'n_estimators': 59}, {'max_depth': 20, 'n_estimators': 60}, {'max_depth': 20, 'n_estimators': 61}, {'max_depth': 20, 'n_estimators': 62}, {'max_depth': 20, 'n_estimators': 63}, {'max_depth': 20, 'n_estimators': 64}, {'max_depth': 20, 'n_estimators': 65}, {'max_depth': 21, 'n_estimators': 55}, {'max_depth': 21, 'n_estimators': 56}, {'max_depth': 21, 'n_estimators': 57}, {'max_depth': 21, 'n_estimators': 58}, {'max_depth': 21, 'n_estimators': 59}, {'max_depth': 21, 'n_estimators': 60}, {'max_depth': 21, 'n_estimators': 61}, {'max_depth': 21, 'n_estimators': 62}, {'max_depth': 21, 'n_estimators': 63}, {'max_depth': 21, 'n_estimators': 64}, {'max_depth': 21, 'n_estimators': 65}], 'split0_test_score': array([0.38681599, 0.38723614, 0.38698964, 0.38494218, 0.38436152,\n",
            "       0.38480411, 0.38656084, 0.38510328, 0.38447554, 0.38328984,\n",
            "       0.38079124, 0.4403119 , 0.43670628, 0.43548766, 0.4332969 ,\n",
            "       0.43381435, 0.43359511, 0.43270907, 0.4346375 , 0.43156178,\n",
            "       0.43659399, 0.43335253, 0.40283123, 0.40141231, 0.40447322,\n",
            "       0.40372447, 0.39720797, 0.39995383, 0.40174975, 0.40138589,\n",
            "       0.40106514, 0.40422036, 0.40422236, 0.43203972, 0.43023658,\n",
            "       0.43135333, 0.43004306, 0.43085472, 0.43410635, 0.43377452,\n",
            "       0.43762034, 0.43533616, 0.43742124, 0.43566472, 0.41510799,\n",
            "       0.40982777, 0.4125919 , 0.41107861, 0.40375497, 0.39962435,\n",
            "       0.39763593, 0.40237397, 0.4047292 , 0.40898454, 0.40556619,\n",
            "       0.44504414, 0.4411411 , 0.44233469, 0.43639715, 0.43515681,\n",
            "       0.43466184, 0.43699695, 0.43928483, 0.44042641, 0.44513337,\n",
            "       0.44420915, 0.43367684, 0.43312922, 0.43486192, 0.43231876,\n",
            "       0.43252972, 0.43105   , 0.43367854, 0.43066313, 0.42586411,\n",
            "       0.42967086, 0.42886978]), 'split1_test_score': array([0.53880744, 0.53720842, 0.52974978, 0.53744909, 0.53674746,\n",
            "       0.53683925, 0.53927565, 0.54274834, 0.54486861, 0.54994048,\n",
            "       0.552256  , 0.53639425, 0.53744991, 0.53582768, 0.54562846,\n",
            "       0.54610248, 0.54566226, 0.54839907, 0.55107906, 0.54885751,\n",
            "       0.54731524, 0.54781369, 0.5417852 , 0.54023738, 0.54033195,\n",
            "       0.55128569, 0.55157597, 0.55052727, 0.55202921, 0.55622162,\n",
            "       0.55693403, 0.55326709, 0.5523803 , 0.56078306, 0.55447499,\n",
            "       0.55579666, 0.56450154, 0.56351968, 0.56338516, 0.56578409,\n",
            "       0.56838712, 0.57213084, 0.56911516, 0.57137354, 0.57853479,\n",
            "       0.57790109, 0.5765048 , 0.58401929, 0.58055158, 0.58107982,\n",
            "       0.58195358, 0.58295563, 0.58352591, 0.5820914 , 0.58296373,\n",
            "       0.5312288 , 0.53006749, 0.52766753, 0.53490059, 0.54324345,\n",
            "       0.5437284 , 0.54657128, 0.54963435, 0.55018741, 0.55034025,\n",
            "       0.54854558, 0.58236417, 0.58135258, 0.58060081, 0.58775353,\n",
            "       0.58526947, 0.58349182, 0.58468582, 0.58721505, 0.58730944,\n",
            "       0.58925438, 0.58972189]), 'split2_test_score': array([0.37110057, 0.37104986, 0.37602494, 0.37482117, 0.37517873,\n",
            "       0.37441449, 0.37169843, 0.36710644, 0.368319  , 0.37236135,\n",
            "       0.37528413, 0.3789281 , 0.38175347, 0.38491185, 0.38100805,\n",
            "       0.38027908, 0.38395838, 0.38270842, 0.38109868, 0.38268655,\n",
            "       0.38555706, 0.38774298, 0.39232084, 0.39125052, 0.3939851 ,\n",
            "       0.39158277, 0.39444018, 0.39157571, 0.38806137, 0.38641411,\n",
            "       0.38438773, 0.38432203, 0.3819759 , 0.39671499, 0.3970038 ,\n",
            "       0.39950388, 0.40174041, 0.40050852, 0.40002466, 0.39952897,\n",
            "       0.39747028, 0.39636569, 0.39686912, 0.39653104, 0.40811453,\n",
            "       0.40567915, 0.40804071, 0.40797256, 0.40959068, 0.40688964,\n",
            "       0.40247305, 0.40076303, 0.39735881, 0.39835229, 0.40269148,\n",
            "       0.42556502, 0.42331956, 0.42501681, 0.42715983, 0.42652861,\n",
            "       0.42837459, 0.42827003, 0.42576772, 0.42421672, 0.42390101,\n",
            "       0.42288714, 0.39269695, 0.39189378, 0.39493868, 0.39273454,\n",
            "       0.39304403, 0.39244073, 0.39181746, 0.38921597, 0.38450247,\n",
            "       0.38824105, 0.39125772]), 'split3_test_score': array([0.63433201, 0.63533423, 0.63728784, 0.63650984, 0.63355478,\n",
            "       0.63183211, 0.63000774, 0.6337061 , 0.63296415, 0.63279856,\n",
            "       0.63447118, 0.62653208, 0.63059496, 0.63045938, 0.63140264,\n",
            "       0.63310207, 0.63393187, 0.63336241, 0.63416888, 0.629261  ,\n",
            "       0.62909202, 0.63077963, 0.64378854, 0.64426202, 0.64387217,\n",
            "       0.64366653, 0.64366262, 0.6409863 , 0.63830957, 0.64038788,\n",
            "       0.63801878, 0.64054852, 0.63643814, 0.61978368, 0.61944215,\n",
            "       0.62151034, 0.62388279, 0.62565732, 0.62617443, 0.62436012,\n",
            "       0.6245062 , 0.62597598, 0.62921159, 0.63033033, 0.62508323,\n",
            "       0.62889394, 0.63302893, 0.63363259, 0.63363193, 0.6329977 ,\n",
            "       0.62971341, 0.63030226, 0.62838823, 0.62781118, 0.62787772,\n",
            "       0.63730277, 0.63766279, 0.63838961, 0.64032921, 0.6415338 ,\n",
            "       0.64415746, 0.642532  , 0.64718457, 0.64437696, 0.64494042,\n",
            "       0.64872537, 0.62466883, 0.6231035 , 0.62536716, 0.62533115,\n",
            "       0.62521613, 0.62214377, 0.61976567, 0.62288523, 0.6187448 ,\n",
            "       0.6218945 , 0.62421633]), 'split4_test_score': array([0.2911109 , 0.27632567, 0.27127677, 0.26681915, 0.26441987,\n",
            "       0.2648364 , 0.2682967 , 0.25786596, 0.25698759, 0.26181513,\n",
            "       0.26017866, 0.28547133, 0.29219886, 0.28683168, 0.27582107,\n",
            "       0.27565108, 0.27490317, 0.27729605, 0.26769374, 0.26867182,\n",
            "       0.27527442, 0.28037107, 0.27924368, 0.2837304 , 0.28005679,\n",
            "       0.2743285 , 0.27057964, 0.26426487, 0.26731851, 0.25808874,\n",
            "       0.25931551, 0.259889  , 0.26277416, 0.26419147, 0.26242398,\n",
            "       0.26107631, 0.25902353, 0.26589237, 0.26234762, 0.26514546,\n",
            "       0.25438849, 0.25481141, 0.2636985 , 0.26948237, 0.26315939,\n",
            "       0.26178415, 0.25846733, 0.2548694 , 0.24942362, 0.24130819,\n",
            "       0.24721831, 0.23659716, 0.23784504, 0.24038408, 0.24201541,\n",
            "       0.24909601, 0.25329762, 0.2529786 , 0.25124781, 0.24493975,\n",
            "       0.24763425, 0.25041156, 0.24326929, 0.24716169, 0.25329831,\n",
            "       0.25349306, 0.27738144, 0.26024791, 0.25891923, 0.26006646,\n",
            "       0.25166494, 0.24953067, 0.25182495, 0.24543042, 0.24196234,\n",
            "       0.24967937, 0.25351124]), 'mean_test_score': array([0.44443338, 0.44143086, 0.44026579, 0.44010829, 0.43885247,\n",
            "       0.43854527, 0.43916787, 0.43730603, 0.43752298, 0.44004107,\n",
            "       0.44059624, 0.45352753, 0.4557407 , 0.45470365, 0.45343143,\n",
            "       0.45378981, 0.45441016, 0.454895  , 0.45373557, 0.45220773,\n",
            "       0.45476655, 0.45601198, 0.4519939 , 0.45217852, 0.45254384,\n",
            "       0.45291759, 0.45149328, 0.4494616 , 0.44949368, 0.44849965,\n",
            "       0.44794424, 0.4484494 , 0.44755817, 0.45470258, 0.4527163 ,\n",
            "       0.4538481 , 0.45583827, 0.45728652, 0.45720765, 0.45771863,\n",
            "       0.45647449, 0.45692401, 0.45926312, 0.4606764 , 0.45799999,\n",
            "       0.45681722, 0.45772673, 0.45831449, 0.45539056, 0.45237994,\n",
            "       0.45179886, 0.45059841, 0.45036944, 0.4515247 , 0.45222291,\n",
            "       0.45764735, 0.45709771, 0.45727745, 0.45800692, 0.45828048,\n",
            "       0.45971131, 0.46095636, 0.46102815, 0.46127384, 0.46352267,\n",
            "       0.46357206, 0.46215765, 0.4579454 , 0.45893756, 0.45964089,\n",
            "       0.45754486, 0.4557314 , 0.45635449, 0.45508196, 0.45167663,\n",
            "       0.45574803, 0.45751539]), 'std_test_score': array([0.12423623, 0.12800167, 0.12833362, 0.13067795, 0.13034014,\n",
            "       0.12976683, 0.12880839, 0.13382296, 0.13410189, 0.13326594,\n",
            "       0.13449774, 0.11897906, 0.11818017, 0.11907337, 0.12439456,\n",
            "       0.1250686 , 0.12503957, 0.12477029, 0.12828433, 0.12620136,\n",
            "       0.1235251 , 0.1224705 , 0.12701822, 0.12594811, 0.12633683,\n",
            "       0.1297208 , 0.13105518, 0.13190573, 0.1306952 , 0.13472621,\n",
            "       0.13403356, 0.13380013, 0.13189957, 0.12543962, 0.12487812,\n",
            "       0.12579699, 0.12835473, 0.12663989, 0.12774774, 0.12687893,\n",
            "       0.13071711, 0.13178318, 0.1292792 , 0.12832122, 0.13018186,\n",
            "       0.13200963, 0.13345355, 0.13615695, 0.13756563, 0.14042096,\n",
            "       0.13842955, 0.14171634, 0.14105397, 0.13952915, 0.13911519,\n",
            "       0.1283527 , 0.12716791, 0.12708928, 0.12909059, 0.13255764,\n",
            "       0.13241253, 0.13135539, 0.13538114, 0.13347976, 0.13156901,\n",
            "       0.1324127 , 0.12699424, 0.13158228, 0.13204816, 0.13335593,\n",
            "       0.13535131, 0.13501809, 0.13392812, 0.13748125, 0.1381787 ,\n",
            "       0.13647718, 0.13571743]), 'rank_test_score': array([67, 68, 70, 71, 74, 75, 73, 77, 76, 72, 69, 45, 33, 39, 46, 43, 41,\n",
            "       37, 44, 52, 38, 30, 54, 53, 49, 47, 58, 62, 61, 63, 65, 64, 66, 40,\n",
            "       48, 42, 31, 22, 24, 18, 28, 26, 10,  7, 15, 27, 17, 12, 35, 50, 55,\n",
            "       59, 60, 57, 51, 19, 25, 23, 14, 13,  8,  6,  5,  4,  2,  1,  3, 16,\n",
            "       11,  9, 20, 34, 29, 36, 56, 32, 21], dtype=int32)}\n"
          ]
        },
        {
          "output_type": "display_data",
          "data": {
            "text/plain": [
              "<Figure size 432x288 with 1 Axes>"
            ],
            "image/png": "[encoded data removed]"
          },
          "metadata": {
            "needs_background": "light"
          }
        },
        {
          "output_type": "stream",
          "name": "stdout",
          "text": [
            "the best parameter for max_depth is: 20\n",
            "the best parameter for n_estimators is: 65\n"
          ]
        }
      ]
    },
    {
      "cell_type": "markdown",
      "metadata": {
        "id": "4hOWiqrAGBT3"
      },
      "source": [
        "# Part 5: Model Evaluation"
      ]
    },
    {
      "cell_type": "markdown",
      "metadata": {
        "id": "OTvNuvgHgopJ"
      },
      "source": [
        "## 5.1: Evaluate all models"
      ]
    },
    {
      "cell_type": "code",
      "metadata": {
        "id": "hqKQ3G8r2Y7m"
      },
      "source": [
        "train_x = model_train_x\n",
        "train_y = model_train_y\n",
        "test_x = model_test_x\n",
        "test_y = model_test_y"
      ],
      "execution_count": null,
      "outputs": []
    },
    {
      "cell_type": "code",
      "metadata": {
        "id": "K3ln6hSBwwqg",
        "colab": {
          "base_uri": "https://localhost:8080/"
        },
        "outputId": "cc38eccc-d557-4866-db98-c026c8906722"
      },
      "source": [
        "#For lasso\n",
        "from sklearn.linear_model import Lasso\n",
        "from sklearn.metrics import  mean_squared_error\n",
        "lasso=Lasso(alpha=model1_para)\n",
        "lasso.fit(train_x,train_y)\n",
        "pred_y=lasso.predict(test_x)\n",
        "lasso_score=lasso.score(test_x,test_y)\n",
        "MSE_lasso=mean_squared_error(test_y,pred_y)\n",
        "RMSE_lasso=np.sqrt(MSE_lasso)\n",
        "print ('lasso score: ', lasso_score)\n",
        "print ('Mean square error of lasso: ', MSE_lasso)\n",
        "print ('Root mean squared error of lasso:', RMSE_lasso)"
      ],
      "execution_count": null,
      "outputs": [
        {
          "output_type": "stream",
          "name": "stdout",
          "text": [
            "lasso score:  0.09898048413763116\n",
            "Mean square error of lasso:  239104131.54554778\n",
            "Root mean squared error of lasso: 15462.99232184857\n"
          ]
        }
      ]
    },
    {
      "cell_type": "code",
      "metadata": {
        "id": "kGt2OK7dPo6V",
        "colab": {
          "base_uri": "https://localhost:8080/"
        },
        "outputId": "53b90c1e-1d45-43d3-a311-ff90beaffb1a"
      },
      "source": [
        "#for ridge\n",
        "from sklearn.metrics import  mean_squared_error\n",
        "ridge=Ridge(alpha=model3_para)\n",
        "ridge.fit(train_x,train_y)\n",
        "pred_y=ridge.predict(test_x)\n",
        "ridge_score=ridge.score(test_x,test_y)\n",
        "MSE_ridge=mean_squared_error(test_y,pred_y)\n",
        "RMSE_ridge=np.sqrt(MSE_ridge)\n",
        "print ('ridge score: ', ridge_score)\n",
        "print ('Mean square error of ridge: ', MSE_ridge)\n",
        "print ('Root mean squared error of ridge:', RMSE_ridge)"
      ],
      "execution_count": null,
      "outputs": [
        {
          "output_type": "stream",
          "name": "stdout",
          "text": [
            "ridge score:  0.1138238752321652\n",
            "Mean square error of ridge:  235165131.2526933\n",
            "Root mean squared error of ridge: 15335.094758516925\n"
          ]
        }
      ]
    },
    {
      "cell_type": "code",
      "metadata": {
        "id": "uhuoqrdCRcDK",
        "colab": {
          "base_uri": "https://localhost:8080/"
        },
        "outputId": "e5185664-0e2a-4c94-e440-8afc117bdae4"
      },
      "source": [
        "#For randomforest regression\n",
        "from sklearn.ensemble import RandomForestRegressor\n",
        "rf=RandomForestRegressor(n_estimators=clf.best_params_['n_estimators'],max_depth=clf.best_params_['max_depth'],max_features='sqrt',random_state=2,n_jobs=-1)\n",
        "rf.fit(train_x,train_y)\n",
        "pred_y=rf.predict(test_x)\n",
        "rf_score=rf.score(test_x,test_y)\n",
        "MSE_rf=mean_squared_error(test_y,pred_y)\n",
        "RMSE_rf=np.sqrt(MSE_rf)\n",
        "print ('rf score: ', rf_score)\n",
        "print ('Mean square error of rf: ', MSE_rf)\n",
        "print ('Root mean squared error of rf:', RMSE_rf)\n"
      ],
      "execution_count": null,
      "outputs": [
        {
          "output_type": "stream",
          "name": "stdout",
          "text": [
            "rf score:  0.5169719005665712\n",
            "Mean square error of rf:  128181479.08437566\n",
            "Root mean squared error of rf: 11321.725976386095\n"
          ]
        }
      ]
    },
    {
      "cell_type": "markdown",
      "metadata": {
        "id": "KOaL7VjchKND"
      },
      "source": [
        "## 5.2 Model comparison "
      ]
    },
    {
      "cell_type": "code",
      "metadata": {
        "id": "4GS6BG2PS2oE",
        "colab": {
          "base_uri": "https://localhost:8080/",
          "height": 832
        },
        "outputId": "cb801146-740c-4879-987c-bf76c126dd55"
      },
      "source": [
        "lst_score = [lasso_score, ridge_score, rf_score]\n",
        "MSE_lst =  [MSE_lasso, MSE_ridge, MSE_rf]\n",
        "RMSE_lst =  [RMSE_lasso, RMSE_ridge, RMSE_rf]\n",
        "model_lst = ['Lasso_linear', 'Ridge linear', 'Random forest']\n",
        "\n",
        "plt.figure(1)\n",
        "plt.plot(model_lst, lst_score, 'ro')\n",
        "plt.legend(['r-squre / score'])\n",
        "plt.xlabel('model names',fontsize =16)\n",
        "plt.ylabel('score / r square', fontsize =16)\n",
        "plt.grid(True)\n",
        "plt.show()\n",
        "\n",
        "plt.figure(2)\n",
        "plt.plot(model_lst, MSE_lst, 'g^')\n",
        "plt.legend(['mean square error (MSE)'])\n",
        "plt.xlabel('model names', fontsize =16)\n",
        "plt.ylabel('mean square error', fontsize =16)\n",
        "plt.grid(True)\n",
        "plt.show()\n",
        "\n",
        "plt.figure(3)\n",
        "plt.plot(model_lst, RMSE_lst, 'bs')\n",
        "plt.legend(['root mean square error (RMSE)'])\n",
        "plt.xlabel('model names', fontsize =16)\n",
        "plt.ylabel('root mean square error', fontsize =16)\n",
        "plt.grid(True)\n",
        "plt.show()"
      ],
      "execution_count": null,
      "outputs": [
        {
          "output_type": "display_data",
          "data": {
            "text/plain": [
              "<Figure size 432x288 with 1 Axes>"
            ],
            "image/png": "[encoded data removed]"
          },
          "metadata": {
            "needs_background": "light"
          }
        },
        {
          "output_type": "display_data",
          "data": {
            "text/plain": [
              "<Figure size 432x288 with 1 Axes>"
            ],
            "image/png": "[encoded data removed]"
          },
          "metadata": {
            "needs_background": "light"
          }
        },
        {
          "output_type": "display_data",
          "data": {
            "text/plain": [
              "<Figure size 432x288 with 1 Axes>"
            ],
            "image/png": "[encoded data removed]"
          },
          "metadata": {
            "needs_background": "light"
          }
        }
      ]
    },
    {
      "cell_type": "markdown",
      "metadata": {
        "id": "ndOUSyTvhb7k"
      },
      "source": [
        "## 5.3 Feature importance"
      ]
    },
    {
      "cell_type": "markdown",
      "metadata": {
        "id": "be1mLaDvUOgD"
      },
      "source": [
        "According to MSE,RMSE and R square, the Random Forest Regression has the best performance"
      ]
    },
    {
      "cell_type": "code",
      "metadata": {
        "id": "o2AyiWRnVVJj",
        "cellView": "code",
        "colab": {
          "base_uri": "https://localhost:8080/",
          "height": 407
        },
        "outputId": "3ef460af-a915-40b3-8212-0a401d6ebedb"
      },
      "source": [
        "importances = rf.feature_importances_\n",
        "feature_name = train_x.columns.values\n",
        "indices = np.argsort(importances)[::-1]\n",
        "plt.figure(1)\n",
        "plt.bar(feature_name[indices[:20]], importances[indices[:20]])\n",
        "plt.xticks(rotation=90)\n",
        "plt.show()"
      ],
      "execution_count": null,
      "outputs": [
        {
          "output_type": "display_data",
          "data": {
            "text/plain": [
              "<Figure size 432x288 with 1 Axes>"
            ],
            "image/png": "[encoded data removed]"
          },
          "metadata": {
            "needs_background": "light"
          }
        }
      ]
    }
  ]
}